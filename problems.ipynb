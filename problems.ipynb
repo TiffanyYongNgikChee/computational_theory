{
 "cells": [
  {
   "cell_type": "markdown",
   "id": "8a086f93",
   "metadata": {
    "vscode": {
     "languageId": "plaintext"
    }
   },
   "source": [
    "# Computational Theory Assessment\n",
    "\n",
    "**Student:** Tiffany Yong Ngik Chee  (G00425067)    \n",
    "**Module:** Computation Theory  \n",
    "**Lecturer:** Ian McLoughlin\n",
    "\n",
    "This notebook contains solutions to five problems related to the [SHA-256 Secure Hash Standard (FIPS 180-4)](https://nvlpubs.nist.gov/nistpubs/FIPS/NIST.FIPS.180-4.pdf).\n",
    "\n",
    "---"
   ]
  },
  {
   "cell_type": "markdown",
   "id": "c974155c",
   "metadata": {
    "vscode": {
     "languageId": "plaintext"
    }
   },
   "source": [
    "## Problem 1: Binary Words and Operations\n",
    "\n",
    "### Introduction\n",
    "\n",
    "In this problem, I implement seven fundamental functions used in the SHA-256 cryptographic hash algorithm. These functions operate on 32-bit binary words and form the building blocks of the hash computation process.\n",
    "\n",
    "All seven functions are defined in **Section 4.1.2** (pages 10-11) of the [Secure Hash Standard (FIPS 180-4)](https://nvlpubs.nist.gov/nistpubs/FIPS/NIST.FIPS.180-4.pdf). They perform bitwise logical operations and rotations that help ensure the security and unpredictability of the SHA-256 hash function.\n",
    "\n",
    "### Why 32-bit Operations?\n",
    "\n",
    "SHA-256 processes data in 32-bit chunks (called \"words\"). Using numpy's `uint32` type ensures that all operations treat numbers as **unsigned 32-bit integers**, preventing overflow issues and ensuring compatibility with the standard's specifications."
   ]
  },
  {
   "cell_type": "code",
   "execution_count": 1,
   "id": "6d5aa36d",
   "metadata": {},
   "outputs": [],
   "source": [
    "# Import numpy for 32-bit unsigned integer operations.\n",
    "# NumPy documentation: https://numpy.org/doc/stable/\n",
    "import numpy as np"
   ]
  },
  {
   "cell_type": "markdown",
   "id": "1d178554",
   "metadata": {},
   "source": [
    "---\n",
    "\n",
    "### Function 1: Parity(x, y, z)\n",
    "\n",
    "#### What is the Parity Function?\n",
    "\n",
    "The `Parity` function is defined in **Section 4.1.2, equation (4.3)** on page 10 of the standard. It is defined as:\n",
    "\n",
    "$$\\text{Parity}(x, y, z) = x \\oplus y \\oplus z$$\n",
    "\n",
    "where $\\oplus$ represents the bitwise XOR (exclusive OR) operation.\n",
    "\n",
    "#### Why is it Used?\n",
    "\n",
    "The Parity function is used in certain rounds of the SHA-256 compression function (specifically in the SHA-1 algorithm, which shares some operations with SHA-256). It provides [diffusion](https://en.wikipedia.org/wiki/Confusion_and_diffusion), meaning that changing a single bit in any of the inputs will affect the output, making the hash function more secure.\n",
    "\n",
    "#### How Does XOR Work?\n",
    "\n",
    "The XOR operation compares corresponding bits of two binary numbers:\n",
    "- If the bits are **different**, the result is `1`\n",
    "- If the bits are the **same**, the result is `0`\n",
    "\n",
    "For three inputs, we XOR them sequentially: first `x ⊕ y`, then XOR that result with `z`."
   ]
  },
  {
   "cell_type": "code",
   "execution_count": 2,
   "id": "54a0fa68",
   "metadata": {},
   "outputs": [],
   "source": [
    "def Parity(x, y, z):\n",
    "    \"\"\"\n",
    "    Calculate the Parity function for SHA-256.\n",
    "    \n",
    "    As defined in Section 4.1.2 (equation 4.3) of FIPS 180-4,\n",
    "    this function returns the bitwise XOR of three 32-bit words.\n",
    "    \n",
    "    The formula is: Parity(x, y, z) = x ⊕ y ⊕ z\n",
    "    \n",
    "    Parameters\n",
    "    ----------\n",
    "    x : int or numpy.uint32\n",
    "        First 32-bit word\n",
    "    y : int or numpy.uint32\n",
    "        Second 32-bit word\n",
    "    z : int or numpy.uint32\n",
    "        Third 32-bit word\n",
    "        \n",
    "    Returns\n",
    "    -------\n",
    "    numpy.uint32\n",
    "        The bitwise XOR of x, y, and z\n",
    "        \n",
    "    References\n",
    "    ----------\n",
    "    FIPS 180-4, Section 4.1.2, page 10\n",
    "    https://nvlpubs.nist.gov/nistpubs/FIPS/NIST.FIPS.180-4.pdf\n",
    "    \"\"\"\n",
    "    # Ensure all inputs are treated as 32-bit unsigned integers.\n",
    "    # This prevents overflow and ensures compatibility with the standard.\n",
    "    # See: https://numpy.org/doc/stable/reference/arrays.scalars.html#numpy.uint32\n",
    "    x = np.uint32(x)\n",
    "    y = np.uint32(y)\n",
    "    z = np.uint32(z)\n",
    "    \n",
    "    # Perform bitwise XOR operation.\n",
    "    # The ^ operator in Python performs bitwise XOR.\n",
    "    # See: https://docs.python.org/3/reference/expressions.html#binary-bitwise-operations\n",
    "    return x ^ y ^ z"
   ]
  },
  {
   "cell_type": "markdown",
   "id": "0db4db26",
   "metadata": {},
   "source": [
    "#### Understanding the XOR Operation\n",
    "\n",
    "Here is the demonstrate how XOR works with a simple example using smaller numbers for clarity:"
   ]
  },
  {
   "cell_type": "code",
   "execution_count": 3,
   "id": "3ea0c564",
   "metadata": {},
   "outputs": [
    {
     "name": "stdout",
     "output_type": "stream",
     "text": [
      "Example XOR operation:\n",
      "x = 1100 (12)\n",
      "y = 1010 (10)\n",
      "z = 1111 (15)\n",
      "x ⊕ y = 0110 (6)\n",
      "(x ⊕ y) ⊕ z = 1001 (9)\n"
     ]
    }
   ],
   "source": [
    "# Example with small numbers to show how XOR works.\n",
    "x_example = 0b1100  # Binary: 1100 (decimal: 12)\n",
    "y_example = 0b1010  # Binary: 1010 (decimal: 10)\n",
    "z_example = 0b1111  # Binary: 1111 (decimal: 15)\n",
    "\n",
    "print(\"Example XOR operation:\")\n",
    "print(f\"x = {x_example:04b} ({x_example})\")\n",
    "print(f\"y = {y_example:04b} ({y_example})\")\n",
    "print(f\"z = {z_example:04b} ({z_example})\")\n",
    "print(f\"x ⊕ y = {x_example ^ y_example:04b} ({x_example ^ y_example})\")\n",
    "print(f\"(x ⊕ y) ⊕ z = {x_example ^ y_example ^ z_example:04b} ({x_example ^ y_example ^ z_example})\")"
   ]
  },
  {
   "cell_type": "markdown",
   "id": "54705f00",
   "metadata": {},
   "source": [
    "#### Testing the Parity Function\n",
    "\n",
    "Now let's test the `Parity` function with actual 32-bit values as used in SHA-256:"
   ]
  },
  {
   "cell_type": "code",
   "execution_count": 4,
   "id": "f64de1d3",
   "metadata": {},
   "outputs": [
    {
     "name": "stdout",
     "output_type": "stream",
     "text": [
      "Testing Parity Function:\n",
      "x = 0x12345678\n",
      "y = 0xabcdef00\n",
      "z = 0xffffffff\n",
      "Parity(x, y, z) = 0x46064687\n",
      "Result type: <class 'numpy.uint32'>\n"
     ]
    }
   ],
   "source": [
    "# Test the Parity function with 32-bit hexadecimal values.\n",
    "# Using hexadecimal notation (0x) as it's standard in cryptography.\n",
    "x_test = 0x12345678\n",
    "y_test = 0xABCDEF00\n",
    "z_test = 0xFFFFFFFF\n",
    "\n",
    "result = Parity(x_test, y_test, z_test)\n",
    "\n",
    "print(\"Testing Parity Function:\")\n",
    "print(f\"x = 0x{x_test:08x}\")\n",
    "print(f\"y = 0x{y_test:08x}\")\n",
    "print(f\"z = 0x{z_test:08x}\")\n",
    "print(f\"Parity(x, y, z) = 0x{result:08x}\")\n",
    "print(f\"Result type: {type(result)}\")"
   ]
  },
  {
   "cell_type": "markdown",
   "id": "0997bfc4",
   "metadata": {},
   "source": [
    "#### My Understanding: Why Parity Works\n",
    "\n",
    "After studying the Parity function, I understand that:\n",
    "\n",
    "1. **XOR is associative**: `(a ⊕ b) ⊕ c = a ⊕ (b ⊕ c)`, so the order doesn't matter\n",
    "2. **XOR is self-inverse**: `a ⊕ a = 0`, which makes it useful for cryptography\n",
    "3. **Bit independence**: Each bit position is processed independently\n",
    "\n",
    "Let me verify this with my own test case:"
   ]
  },
  {
   "cell_type": "code",
   "execution_count": 5,
   "id": "f91094f0",
   "metadata": {},
   "outputs": [
    {
     "name": "stdout",
     "output_type": "stream",
     "text": [
      "Test 1 - Self-inverse property:\n",
      "12345678 ⊕ 12345678 = 00000000 (should be 0)\n",
      "\n",
      "Test 2 - Identity property:\n",
      "12345678 ⊕ 00000000 = 12345678 (should be 12345678)\n",
      "\n",
      "Test 3 - Associativity:\n",
      "Parity(x,y,z) = 0f0f0f0f\n",
      "(x ⊕ y) ⊕ z   = 0f0f0f0f\n",
      "x ⊕ (y ⊕ z)   = 0f0f0f0f\n",
      "All equal: True\n"
     ]
    }
   ],
   "source": [
    "# My own test: Verify XOR properties\n",
    "# Test 1: XOR with itself should give 0\n",
    "a = np.uint32(0x12345678)\n",
    "print(f\"Test 1 - Self-inverse property:\")\n",
    "print(f\"{a:08x} ⊕ {a:08x} = {a ^ a:08x} (should be 0)\")\n",
    "print()\n",
    "\n",
    "# Test 2: XOR with 0 should give the original value\n",
    "print(f\"Test 2 - Identity property:\")\n",
    "print(f\"{a:08x} ⊕ 00000000 = {a ^ np.uint32(0):08x} (should be {a:08x})\")\n",
    "print()\n",
    "\n",
    "# Test 3: Associativity - order doesn't matter\n",
    "x = np.uint32(0xAAAAAAAA)\n",
    "y = np.uint32(0x55555555)\n",
    "z = np.uint32(0xF0F0F0F0)\n",
    "method1 = Parity(x, y, z)\n",
    "method2 = (x ^ y) ^ z\n",
    "method3 = x ^ (y ^ z)\n",
    "print(f\"Test 3 - Associativity:\")\n",
    "print(f\"Parity(x,y,z) = {method1:08x}\")\n",
    "print(f\"(x ⊕ y) ⊕ z   = {method2:08x}\")\n",
    "print(f\"x ⊕ (y ⊕ z)   = {method3:08x}\")\n",
    "print(f\"All equal: {method1 == method2 == method3}\")"
   ]
  },
  {
   "cell_type": "markdown",
   "id": "f21b063c",
   "metadata": {},
   "source": [
    "#### Verification\n",
    "\n",
    "The test confirms that:\n",
    "1. The function returns a `numpy.uint32` type, ensuring 32-bit operations\n",
    "2. The XOR operation works correctly on full 32-bit words\n",
    "3. The result is displayed in hexadecimal format, which is standard in cryptographic contexts\n",
    "\n",
    "---"
   ]
  },
  {
   "cell_type": "markdown",
   "id": "0c41a1c4",
   "metadata": {},
   "source": [
    "\n",
    "### Function 2: Ch(x, y, z)\n",
    "\n",
    "#### What is the Ch Function?\n",
    "\n",
    "The `Ch` function (short for \"Choose\") is defined in **Section 4.1.2, equation (4.2)** on page 10 of the standard:\n",
    "\n",
    "$$\\text{Ch}(x, y, z) = (x \\land y) \\oplus (\\neg x \\land z)$$\n",
    "\n",
    "where:\n",
    "- $\\land$ represents bitwise AND\n",
    "- $\\oplus$ represents bitwise XOR\n",
    "- $\\neg$ represents bitwise NOT (complement)\n",
    "\n",
    "#### Why is it Called \"Choose\"?\n",
    "\n",
    "The Ch function is called \"choose\" because it uses `x` as a **selector**:\n",
    "- When a bit in `x` is **1**, the corresponding bit from `y` is chosen\n",
    "- When a bit in `x` is **0**, the corresponding bit from `z` is chosen\n",
    "\n",
    "This can also be written as: **\"x chooses between y and z\"**\n",
    "\n",
    "#### Logical Explanation\n",
    "\n",
    "The formula works as follows:\n",
    "1. `(x & y)` - Where x has 1's, keep the bits from y\n",
    "2. `(~x & z)` - Where x has 0's (meaning ~x has 1's), keep the bits from z\n",
    "3. XOR these together to get the final result\n",
    "\n",
    "This function provides [confusion](https://en.wikipedia.org/wiki/Confusion_and_diffusion) in the cryptographic sense, making the relationship between the key and ciphertext complex."
   ]
  },
  {
   "cell_type": "code",
   "execution_count": 6,
   "id": "747b8837",
   "metadata": {},
   "outputs": [],
   "source": [
    "def Ch(x, y, z):\n",
    "    \"\"\"\n",
    "    Calculate the Ch (Choose) function for SHA-256.\n",
    "    \n",
    "    As defined in Section 4.1.2 (equation 4.2) of FIPS 180-4,\n",
    "    this function chooses bits from y or z based on the bits in x.\n",
    "    \n",
    "    The formula is: Ch(x, y, z) = (x ∧ y) ⊕ (¬x ∧ z)\n",
    "    \n",
    "    Where x is 1, choose from y; where x is 0, choose from z.\n",
    "    \n",
    "    Parameters\n",
    "    ----------\n",
    "    x : int or numpy.uint32\n",
    "        Selector word (32-bit)\n",
    "    y : int or numpy.uint32\n",
    "        First choice word (32-bit)\n",
    "    z : int or numpy.uint32\n",
    "        Second choice word (32-bit)\n",
    "        \n",
    "    Returns\n",
    "    -------\n",
    "    numpy.uint32\n",
    "        Result of the choose operation\n",
    "        \n",
    "    References\n",
    "    ----------\n",
    "    FIPS 180-4, Section 4.1.2, page 10\n",
    "    https://nvlpubs.nist.gov/nistpubs/FIPS/NIST.FIPS.180-4.pdf\n",
    "    \"\"\"\n",
    "    # Convert to 32-bit unsigned integers.\n",
    "    x = np.uint32(x)\n",
    "    y = np.uint32(y)\n",
    "    z = np.uint32(z)\n",
    "    \n",
    "    # Calculate (x AND y) - where x is 1, use bits from y.\n",
    "    # The & operator performs bitwise AND.\n",
    "    part1 = x & y\n",
    "    \n",
    "    # Calculate (NOT x AND z) - where x is 0, use bits from z.\n",
    "    # The ~ operator performs bitwise NOT (complement).\n",
    "    part2 = (~x) & z\n",
    "    \n",
    "    # XOR the two parts together.\n",
    "    return part1 ^ part2"
   ]
  },
  {
   "cell_type": "markdown",
   "id": "0106b4fb",
   "metadata": {},
   "source": [
    "#### Demonstrating How Ch \"Chooses\"\n",
    "\n",
    "Let me show how the Ch function selects bits from y or z based on x:"
   ]
  },
  {
   "cell_type": "code",
   "execution_count": 7,
   "id": "1cbf37dd",
   "metadata": {},
   "outputs": [
    {
     "name": "stdout",
     "output_type": "stream",
     "text": [
      "Demonstrating Ch function:\n",
      "x (selector) = 11110000\n",
      "y (1st choice)= 10101010\n",
      "z (2nd choice)= 01010101\n",
      "Ch(x,y,z)    = 10100101\n",
      "\n",
      "Notice: where x=1, result takes from y (1010)\n",
      "        where x=0, result takes from z (0101)\n"
     ]
    }
   ],
   "source": [
    "# Simple example to demonstrate the \"choose\" behavior.\n",
    "x_ch = 0b11110000  # Selector: 1111 0000\n",
    "y_ch = 0b10101010  # First choice: 1010 1010\n",
    "z_ch = 0b01010101  # Second choice: 0101 0101\n",
    "\n",
    "result_ch = Ch(x_ch, y_ch, z_ch)\n",
    "\n",
    "print(\"Demonstrating Ch function:\")\n",
    "print(f\"x (selector) = {x_ch:08b}\")\n",
    "print(f\"y (1st choice)= {y_ch:08b}\")\n",
    "print(f\"z (2nd choice)= {z_ch:08b}\")\n",
    "print(f\"Ch(x,y,z)    = {result_ch:08b}\")\n",
    "print()\n",
    "print(\"Notice: where x=1, result takes from y (1010)\")\n",
    "print(\"        where x=0, result takes from z (0101)\")"
   ]
  },
  {
   "cell_type": "markdown",
   "id": "a28f91a3",
   "metadata": {},
   "source": [
    "#### Testing Ch with 32-bit Values"
   ]
  },
  {
   "cell_type": "code",
   "execution_count": 8,
   "id": "394ecb94",
   "metadata": {},
   "outputs": [
    {
     "name": "stdout",
     "output_type": "stream",
     "text": [
      "Ch(0x6a09e667, 0xbb67ae85, 0x3c6ef372) = 0x3e67b715\n"
     ]
    }
   ],
   "source": [
    "# Test Ch with full 32-bit values.\n",
    "result_ch_full = Ch(0x6a09e667, 0xbb67ae85, 0x3c6ef372)\n",
    "print(f\"Ch(0x6a09e667, 0xbb67ae85, 0x3c6ef372) = 0x{result_ch_full:08x}\")"
   ]
  },
  {
   "cell_type": "markdown",
   "id": "b1e73cdc",
   "metadata": {},
   "source": [
    "#### My Understanding: Ch as a Multiplexer\n",
    "\n",
    "The Ch function acts like a digital multiplexer in hardware:\n",
    "- `x` is the **selector signal**\n",
    "- `y` and `z` are the **data inputs**\n",
    "- The output selects from y when x=1, from z when x=0\n",
    "\n",
    "This is more efficient than: `if x then y else z` because it works on all 32 bits simultaneously.\n",
    "\n",
    "Let me verify with edge cases:"
   ]
  },
  {
   "cell_type": "code",
   "execution_count": 9,
   "id": "86daf24b",
   "metadata": {},
   "outputs": [
    {
     "name": "stdout",
     "output_type": "stream",
     "text": [
      "Edge Case Tests for Ch:\n",
      "\n",
      "When x = 0xFFFFFFFF (all 1s):\n",
      "Ch(x, 0x12345678, 0xabcdef00) = 0x12345678\n",
      "Should equal y: True ✓\n",
      "\n",
      "When x = 0x00000000 (all 0s):\n",
      "Ch(x, 0x12345678, 0xabcdef00) = 0xabcdef00\n",
      "Should equal z: True ✓\n",
      "\n",
      "When y = z = 0xaaaaaaaa:\n",
      "Ch(0x12345678, y, z) = 0xaaaaaaaa\n",
      "Should equal y and z: True ✓\n"
     ]
    }
   ],
   "source": [
    "# Edge case tests for Ch function\n",
    "print(\"Edge Case Tests for Ch:\")\n",
    "print()\n",
    "\n",
    "# Case 1: When x is all 1's, should get y\n",
    "x_all_ones = 0xFFFFFFFF\n",
    "y_test = 0x12345678\n",
    "z_test = 0xABCDEF00\n",
    "result1 = Ch(x_all_ones, y_test, z_test)\n",
    "print(f\"When x = 0xFFFFFFFF (all 1s):\")\n",
    "print(f\"Ch(x, 0x{y_test:08x}, 0x{z_test:08x}) = 0x{result1:08x}\")\n",
    "print(f\"Should equal y: {result1 == y_test} ✓\" if result1 == y_test else f\"ERROR\")\n",
    "print()\n",
    "\n",
    "# Case 2: When x is all 0's, should get z\n",
    "x_all_zeros = 0x00000000\n",
    "result2 = Ch(x_all_zeros, y_test, z_test)\n",
    "print(f\"When x = 0x00000000 (all 0s):\")\n",
    "print(f\"Ch(x, 0x{y_test:08x}, 0x{z_test:08x}) = 0x{result2:08x}\")\n",
    "print(f\"Should equal z: {result2 == z_test} ✓\" if result2 == z_test else f\"ERROR\")\n",
    "print()\n",
    "\n",
    "# Case 3: When y and z are same, result should equal y (and z)\n",
    "y_same = 0xAAAAAAAA\n",
    "z_same = 0xAAAAAAAA\n",
    "x_random = 0x12345678\n",
    "result3 = Ch(x_random, y_same, z_same)\n",
    "print(f\"When y = z = 0x{y_same:08x}:\")\n",
    "print(f\"Ch(0x{x_random:08x}, y, z) = 0x{result3:08x}\")\n",
    "print(f\"Should equal y and z: {result3 == y_same} ✓\" if result3 == y_same else f\"ERROR\")"
   ]
  },
  {
   "cell_type": "markdown",
   "id": "de7efebb",
   "metadata": {},
   "source": [
    "---\n",
    "\n",
    "### Function 3: Maj(x, y, z)\n",
    "\n",
    "#### What is the Maj Function?\n",
    "\n",
    "The `Maj` function (short for \"Majority\") is defined in **Section 4.1.2, equation (4.1)** on page 10 of the standard:\n",
    "\n",
    "$$\\text{Maj}(x, y, z) = (x \\land y) \\oplus (x \\land z) \\oplus (y \\land z)$$\n",
    "\n",
    "#### Why is it Called \"Majority\"?\n",
    "\n",
    "The Maj function returns the **majority bit** at each position:\n",
    "- If **two or more** of the corresponding bits in x, y, and z are 1, the result is 1\n",
    "- If **two or more** of the corresponding bits are 0, the result is 0\n",
    "\n",
    "Think of it as a **voting system** where each bit position votes, and the majority wins.\n",
    "\n",
    "#### How It Works Mathematically\n",
    "\n",
    "The formula can be understood as:\n",
    "1. `(x & y)` - pairs where both x and y are 1\n",
    "2. `(x & z)` - pairs where both x and z are 1  \n",
    "3. `(y & z)` - pairs where both y and z are 1\n",
    "4. XOR all three results\n",
    "\n",
    "If a bit appears in at least two of the three inputs, it will survive the XOR operations."
   ]
  },
  {
   "cell_type": "code",
   "execution_count": null,
   "id": "bfa6ebcf",
   "metadata": {},
   "outputs": [],
   "source": [
    "def Maj(x, y, z):\n",
    "    \"\"\"\n",
    "    Calculate the Maj (Majority) function for SHA-256.\n",
    "    \n",
    "    As defined in Section 4.1.2 (equation 4.1) of FIPS 180-4,\n",
    "    this function returns the majority bit at each position.\n",
    "    \n",
    "    The formula is: Maj(x, y, z) = (x ∧ y) ⊕ (x ∧ z) ⊕ (y ∧ z)\n",
    "    \n",
    "    For each bit position, if two or more inputs have a 1, the result is 1.\n",
    "    \n",
    "    Parameters\n",
    "    ----------\n",
    "    x, y, z : int or numpy.uint32\n",
    "        Three 32-bit words to compare\n",
    "        \n",
    "    Returns\n",
    "    -------\n",
    "    numpy.uint32\n",
    "        The majority value at each bit position\n",
    "        \n",
    "    References\n",
    "    ----------\n",
    "    FIPS 180-4, Section 4.1.2, page 10\n",
    "    https://nvlpubs.nist.gov/nistpubs/FIPS/NIST.FIPS.180-4.pdf\n",
    "    \"\"\"\n",
    "    # Convert to 32-bit unsigned integers.\n",
    "    x = np.uint32(x)\n",
    "    y = np.uint32(y)\n",
    "    z = np.uint32(z)\n",
    "    \n",
    "    # Calculate all three AND combinations.\n",
    "    # These represent positions where pairs of inputs agree.\n",
    "    xy = x & y\n",
    "    xz = x & z\n",
    "    yz = y & z\n",
    "    \n",
    "    # XOR the three results.\n",
    "    # This gives us the majority bit at each position.\n",
    "    return xy ^ xz ^ yz"
   ]
  },
  {
   "cell_type": "markdown",
   "id": "2fa58bfd",
   "metadata": {},
   "source": [
    "#### Demonstrating the Majority Function\n",
    "\n",
    "Let's verify that Maj truly returns the majority bit:"
   ]
  },
  {
   "cell_type": "code",
   "execution_count": 11,
   "id": "2f8e92ff",
   "metadata": {},
   "outputs": [
    {
     "name": "stdout",
     "output_type": "stream",
     "text": [
      "Demonstrating Maj function (majority voting):\n",
      "x = 11110000\n",
      "y = 11001100\n",
      "z = 10101010\n",
      "Maj = 11101000\n",
      "\n",
      "Bit-by-bit analysis:\n",
      "Position  x y z  Majority\n",
      "   7      1 1 1    1  (3/3 are 1)\n",
      "   6      1 1 0    1  (2/3 are 1)\n",
      "   5      1 0 1    1  (2/3 are 1)\n",
      "   4      1 0 0    0  (1/3 are 1)\n",
      "   3      0 1 1    1  (2/3 are 1)\n",
      "   2      0 1 0    0  (1/3 are 1)\n",
      "   1      0 0 1    0  (1/3 are 1)\n",
      "   0      0 0 0    0  (0/3 are 1)\n"
     ]
    }
   ],
   "source": [
    "# Example showing majority voting behavior.\n",
    "x_maj = 0b11110000  # 1111 0000\n",
    "y_maj = 0b11001100  # 1100 1100\n",
    "z_maj = 0b10101010  # 1010 1010\n",
    "\n",
    "result_maj = Maj(x_maj, y_maj, z_maj)\n",
    "\n",
    "print(\"Demonstrating Maj function (majority voting):\")\n",
    "print(f\"x = {x_maj:08b}\")\n",
    "print(f\"y = {y_maj:08b}\")\n",
    "print(f\"z = {z_maj:08b}\")\n",
    "print(f\"Maj = {result_maj:08b}\")\n",
    "print()\n",
    "print(\"Bit-by-bit analysis:\")\n",
    "print(\"Position  x y z  Majority\")\n",
    "for i in range(7, -1, -1):\n",
    "    x_bit = (x_maj >> i) & 1\n",
    "    y_bit = (y_maj >> i) & 1\n",
    "    z_bit = (z_maj >> i) & 1\n",
    "    maj_bit = (result_maj >> i) & 1\n",
    "    count_ones = x_bit + y_bit + z_bit\n",
    "    print(f\"   {i}      {x_bit} {y_bit} {z_bit}    {maj_bit}  ({count_ones}/3 are 1)\")"
   ]
  },
  {
   "cell_type": "markdown",
   "id": "15377587",
   "metadata": {},
   "source": [
    "#### Testing Maj with 32-bit Values"
   ]
  },
  {
   "cell_type": "code",
   "execution_count": 12,
   "id": "f0a30328",
   "metadata": {},
   "outputs": [
    {
     "name": "stdout",
     "output_type": "stream",
     "text": [
      "Maj(0x6a09e667, 0xbb67ae85, 0x3c6ef372) = 0x3a6fe667\n"
     ]
    }
   ],
   "source": [
    "# Test with full 32-bit values (these are actually SHA-256 initial hash values).\n",
    "result_maj_full = Maj(0x6a09e667, 0xbb67ae85, 0x3c6ef372)\n",
    "print(f\"Maj(0x6a09e667, 0xbb67ae85, 0x3c6ef372) = 0x{result_maj_full:08x}\")"
   ]
  },
  {
   "cell_type": "markdown",
   "id": "28d12618",
   "metadata": {},
   "source": [
    "---\n",
    "\n",
    "### Rotation Functions Overview\n",
    "\n",
    "The remaining four functions involve **bit rotation** and **bit shifting** operations. These are crucial for mixing the bits in SHA-256 and ensuring that small changes in input produce large changes in output (the [avalanche effect](https://en.wikipedia.org/wiki/Avalanche_effect)).\n",
    "\n",
    "#### Understanding Bit Operations\n",
    "\n",
    "Before implementing the functions, let's understand the three key operations defined in **Section 3.2** (page 9) of the standard:\n",
    "\n",
    "1. **ROTR^n(x)** - Rotate right: circular shift n positions to the right\n",
    "2. **SHR^n(x)** - Shift right: shift n positions right, filling with zeros\n",
    "3. **ROTL^n(x)** - Rotate left: circular shift n positions to the left (not used in SHA-256)\n",
    "\n",
    "The difference between **rotate** and **shift**:\n",
    "- **Rotate**: Bits that fall off one end appear at the other end (circular)\n",
    "- **Shift**: Bits that fall off are lost, and zeros fill the empty positions"
   ]
  },
  {
   "cell_type": "markdown",
   "id": "0326f210",
   "metadata": {},
   "source": []
  },
  {
   "cell_type": "markdown",
   "id": "3cc77472",
   "metadata": {},
   "source": []
  },
  {
   "cell_type": "markdown",
   "id": "f116e477",
   "metadata": {
    "vscode": {
     "languageId": "plaintext"
    }
   },
   "source": [
    "# Problem 2: Fractional Parts of Cube Roots"
   ]
  },
  {
   "cell_type": "markdown",
   "id": "7c4c6c0a",
   "metadata": {
    "vscode": {
     "languageId": "plaintext"
    }
   },
   "source": [
    "# Problem 3: Padding"
   ]
  },
  {
   "cell_type": "markdown",
   "id": "5f2469ac",
   "metadata": {
    "vscode": {
     "languageId": "plaintext"
    }
   },
   "source": [
    "# Problem 4: Hashes"
   ]
  },
  {
   "cell_type": "markdown",
   "id": "1e6b3773",
   "metadata": {
    "vscode": {
     "languageId": "plaintext"
    }
   },
   "source": [
    "# Problem 5: Passwords"
   ]
  },
  {
   "cell_type": "markdown",
   "id": "715c080f",
   "metadata": {
    "vscode": {
     "languageId": "plaintext"
    }
   },
   "source": [
    "# End"
   ]
  }
 ],
 "metadata": {
  "kernelspec": {
   "display_name": "Python 3",
   "language": "python",
   "name": "python3"
  },
  "language_info": {
   "codemirror_mode": {
    "name": "ipython",
    "version": 3
   },
   "file_extension": ".py",
   "mimetype": "text/x-python",
   "name": "python",
   "nbconvert_exporter": "python",
   "pygments_lexer": "ipython3",
   "version": "3.12.1"
  }
 },
 "nbformat": 4,
 "nbformat_minor": 5
}
