{
 "cells": [
  {
   "cell_type": "markdown",
   "id": "8a086f93",
   "metadata": {
    "vscode": {
     "languageId": "plaintext"
    }
   },
   "source": [
    "# Computational Theory Assessment\n",
    "\n",
    "**Student:** Tiffany Yong Ngik Chee  (G00425067)    \n",
    "**Module:** Computation Theory  \n",
    "**Lecturer:** Ian McLoughlin\n",
    "\n",
    "This notebook contains solutions to five problems related to the [SHA-256 Secure Hash Standard (FIPS 180-4)](https://nvlpubs.nist.gov/nistpubs/FIPS/NIST.FIPS.180-4.pdf).\n",
    "\n",
    "---"
   ]
  },
  {
   "cell_type": "markdown",
   "id": "c974155c",
   "metadata": {
    "vscode": {
     "languageId": "plaintext"
    }
   },
   "source": [
    "## Problem 1: Binary Words and Operations\n",
    "\n",
    "### Introduction\n",
    "\n",
    "In this problem, I implement seven fundamental functions used in the SHA-256 cryptographic hash algorithm. These functions operate on 32-bit binary words and form the building blocks of the hash computation process.\n",
    "\n",
    "All seven functions are defined in **Section 4.1.2** (pages 10-11) of the [Secure Hash Standard (FIPS 180-4)](https://nvlpubs.nist.gov/nistpubs/FIPS/NIST.FIPS.180-4.pdf). They perform bitwise logical operations and rotations that help ensure the security and unpredictability of the SHA-256 hash function.\n",
    "\n",
    "### Why 32-bit Operations?\n",
    "\n",
    "SHA-256 processes data in 32-bit chunks (called \"words\"). Using numpy's `uint32` type ensures that all operations treat numbers as **unsigned 32-bit integers**, preventing overflow issues and ensuring compatibility with the standard's specifications."
   ]
  },
  {
   "cell_type": "code",
   "execution_count": 6,
   "id": "6d5aa36d",
   "metadata": {},
   "outputs": [],
   "source": [
    "# Import numpy for 32-bit unsigned integer operations.\n",
    "# NumPy documentation: https://numpy.org/doc/stable/\n",
    "import numpy as np"
   ]
  },
  {
   "cell_type": "markdown",
   "id": "1d178554",
   "metadata": {},
   "source": [
    "---\n",
    "\n",
    "### Function 1: Parity(x, y, z)\n",
    "\n",
    "#### What is the Parity Function?\n",
    "\n",
    "The `Parity` function is defined in **Section 4.1.2, equation (4.3)** on page 10 of the standard. It is defined as:\n",
    "\n",
    "$$\\text{Parity}(x, y, z) = x \\oplus y \\oplus z$$\n",
    "\n",
    "where $\\oplus$ represents the bitwise XOR (exclusive OR) operation.\n",
    "\n",
    "#### Why is it Used?\n",
    "\n",
    "The Parity function is used in certain rounds of the SHA-256 compression function (specifically in the SHA-1 algorithm, which shares some operations with SHA-256). It provides [diffusion](https://en.wikipedia.org/wiki/Confusion_and_diffusion), meaning that changing a single bit in any of the inputs will affect the output, making the hash function more secure.\n",
    "\n",
    "#### How Does XOR Work?\n",
    "\n",
    "The XOR operation compares corresponding bits of two binary numbers:\n",
    "- If the bits are **different**, the result is `1`\n",
    "- If the bits are the **same**, the result is `0`\n",
    "\n",
    "For three inputs, we XOR them sequentially: first `x ⊕ y`, then XOR that result with `z`."
   ]
  },
  {
   "cell_type": "code",
   "execution_count": 7,
   "id": "54a0fa68",
   "metadata": {},
   "outputs": [],
   "source": [
    "def Parity(x, y, z):\n",
    "    \"\"\"\n",
    "    Calculate the Parity function for SHA-256.\n",
    "    \n",
    "    As defined in Section 4.1.2 (equation 4.3) of FIPS 180-4,\n",
    "    this function returns the bitwise XOR of three 32-bit words.\n",
    "    \n",
    "    The formula is: Parity(x, y, z) = x ⊕ y ⊕ z\n",
    "    \n",
    "    Parameters\n",
    "    ----------\n",
    "    x : int or numpy.uint32\n",
    "        First 32-bit word\n",
    "    y : int or numpy.uint32\n",
    "        Second 32-bit word\n",
    "    z : int or numpy.uint32\n",
    "        Third 32-bit word\n",
    "        \n",
    "    Returns\n",
    "    -------\n",
    "    numpy.uint32\n",
    "        The bitwise XOR of x, y, and z\n",
    "        \n",
    "    References\n",
    "    ----------\n",
    "    FIPS 180-4, Section 4.1.2, page 10\n",
    "    https://nvlpubs.nist.gov/nistpubs/FIPS/NIST.FIPS.180-4.pdf\n",
    "    \"\"\"\n",
    "    # Ensure all inputs are treated as 32-bit unsigned integers.\n",
    "    # This prevents overflow and ensures compatibility with the standard.\n",
    "    # See: https://numpy.org/doc/stable/reference/arrays.scalars.html#numpy.uint32\n",
    "    x = np.uint32(x)\n",
    "    y = np.uint32(y)\n",
    "    z = np.uint32(z)\n",
    "    \n",
    "    # Perform bitwise XOR operation.\n",
    "    # The ^ operator in Python performs bitwise XOR.\n",
    "    # See: https://docs.python.org/3/reference/expressions.html#binary-bitwise-operations\n",
    "    return x ^ y ^ z"
   ]
  },
  {
   "cell_type": "markdown",
   "id": "0db4db26",
   "metadata": {},
   "source": [
    "#### Understanding the XOR Operation\n",
    "\n",
    "Here is the demonstrate how XOR works with a simple example using smaller numbers for clarity:"
   ]
  },
  {
   "cell_type": "code",
   "execution_count": 8,
   "id": "3ea0c564",
   "metadata": {},
   "outputs": [
    {
     "name": "stdout",
     "output_type": "stream",
     "text": [
      "Example XOR operation:\n",
      "x = 1100 (12)\n",
      "y = 1010 (10)\n",
      "z = 1111 (15)\n",
      "x ⊕ y = 0110 (6)\n",
      "(x ⊕ y) ⊕ z = 1001 (9)\n"
     ]
    }
   ],
   "source": [
    "# Example with small numbers to show how XOR works.\n",
    "x_example = 0b1100  # Binary: 1100 (decimal: 12)\n",
    "y_example = 0b1010  # Binary: 1010 (decimal: 10)\n",
    "z_example = 0b1111  # Binary: 1111 (decimal: 15)\n",
    "\n",
    "print(\"Example XOR operation:\")\n",
    "print(f\"x = {x_example:04b} ({x_example})\")\n",
    "print(f\"y = {y_example:04b} ({y_example})\")\n",
    "print(f\"z = {z_example:04b} ({z_example})\")\n",
    "print(f\"x ⊕ y = {x_example ^ y_example:04b} ({x_example ^ y_example})\")\n",
    "print(f\"(x ⊕ y) ⊕ z = {x_example ^ y_example ^ z_example:04b} ({x_example ^ y_example ^ z_example})\")"
   ]
  },
  {
   "cell_type": "markdown",
   "id": "54705f00",
   "metadata": {},
   "source": [
    "#### Testing the Parity Function\n",
    "\n",
    "Now let's test the `Parity` function with actual 32-bit values as used in SHA-256:"
   ]
  },
  {
   "cell_type": "code",
   "execution_count": 9,
   "id": "f64de1d3",
   "metadata": {},
   "outputs": [
    {
     "name": "stdout",
     "output_type": "stream",
     "text": [
      "Testing Parity Function:\n",
      "x = 0x12345678\n",
      "y = 0xabcdef00\n",
      "z = 0xffffffff\n",
      "Parity(x, y, z) = 0x46064687\n",
      "Result type: <class 'numpy.uint32'>\n"
     ]
    }
   ],
   "source": [
    "# Test the Parity function with 32-bit hexadecimal values.\n",
    "# Using hexadecimal notation (0x) as it's standard in cryptography.\n",
    "x_test = 0x12345678\n",
    "y_test = 0xABCDEF00\n",
    "z_test = 0xFFFFFFFF\n",
    "\n",
    "result = Parity(x_test, y_test, z_test)\n",
    "\n",
    "print(\"Testing Parity Function:\")\n",
    "print(f\"x = 0x{x_test:08x}\")\n",
    "print(f\"y = 0x{y_test:08x}\")\n",
    "print(f\"z = 0x{z_test:08x}\")\n",
    "print(f\"Parity(x, y, z) = 0x{result:08x}\")\n",
    "print(f\"Result type: {type(result)}\")"
   ]
  },
  {
   "cell_type": "markdown",
   "id": "0997bfc4",
   "metadata": {},
   "source": [
    "#### My Understanding: Why Parity Works\n",
    "\n",
    "After studying the Parity function, I understand that:\n",
    "\n",
    "1. **XOR is associative**: `(a ⊕ b) ⊕ c = a ⊕ (b ⊕ c)`, so the order doesn't matter\n",
    "2. **XOR is self-inverse**: `a ⊕ a = 0`, which makes it useful for cryptography\n",
    "3. **Bit independence**: Each bit position is processed independently\n",
    "\n",
    "Let me verify this with my own test case:"
   ]
  },
  {
   "cell_type": "code",
   "execution_count": 10,
   "id": "f91094f0",
   "metadata": {},
   "outputs": [
    {
     "name": "stdout",
     "output_type": "stream",
     "text": [
      "Test 1 - Self-inverse property:\n",
      "12345678 ⊕ 12345678 = 00000000 (should be 0)\n",
      "\n",
      "Test 2 - Identity property:\n",
      "12345678 ⊕ 00000000 = 12345678 (should be 12345678)\n",
      "\n",
      "Test 3 - Associativity:\n",
      "Parity(x,y,z) = 0f0f0f0f\n",
      "(x ⊕ y) ⊕ z   = 0f0f0f0f\n",
      "x ⊕ (y ⊕ z)   = 0f0f0f0f\n",
      "All equal: True\n"
     ]
    }
   ],
   "source": [
    "# My own test: Verify XOR properties\n",
    "# Test 1: XOR with itself should give 0\n",
    "a = np.uint32(0x12345678)\n",
    "print(f\"Test 1 - Self-inverse property:\")\n",
    "print(f\"{a:08x} ⊕ {a:08x} = {a ^ a:08x} (should be 0)\")\n",
    "print()\n",
    "\n",
    "# Test 2: XOR with 0 should give the original value\n",
    "print(f\"Test 2 - Identity property:\")\n",
    "print(f\"{a:08x} ⊕ 00000000 = {a ^ np.uint32(0):08x} (should be {a:08x})\")\n",
    "print()\n",
    "\n",
    "# Test 3: Associativity - order doesn't matter\n",
    "x = np.uint32(0xAAAAAAAA)\n",
    "y = np.uint32(0x55555555)\n",
    "z = np.uint32(0xF0F0F0F0)\n",
    "method1 = Parity(x, y, z)\n",
    "method2 = (x ^ y) ^ z\n",
    "method3 = x ^ (y ^ z)\n",
    "print(f\"Test 3 - Associativity:\")\n",
    "print(f\"Parity(x,y,z) = {method1:08x}\")\n",
    "print(f\"(x ⊕ y) ⊕ z   = {method2:08x}\")\n",
    "print(f\"x ⊕ (y ⊕ z)   = {method3:08x}\")\n",
    "print(f\"All equal: {method1 == method2 == method3}\")"
   ]
  },
  {
   "cell_type": "markdown",
   "id": "f21b063c",
   "metadata": {},
   "source": [
    "#### Verification\n",
    "\n",
    "The test confirms that:\n",
    "1. The function returns a `numpy.uint32` type, ensuring 32-bit operations\n",
    "2. The XOR operation works correctly on full 32-bit words\n",
    "3. The result is displayed in hexadecimal format, which is standard in cryptographic contexts\n",
    "\n",
    "---"
   ]
  },
  {
   "cell_type": "markdown",
   "id": "0c41a1c4",
   "metadata": {},
   "source": [
    "\n",
    "### Function 2: Ch(x, y, z)\n",
    "\n",
    "#### What is the Ch Function?\n",
    "\n",
    "The `Ch` function (short for \"Choose\") is defined in **Section 4.1.2, equation (4.2)** on page 10 of the standard:\n",
    "\n",
    "$$\\text{Ch}(x, y, z) = (x \\land y) \\oplus (\\neg x \\land z)$$\n",
    "\n",
    "where:\n",
    "- $\\land$ represents bitwise AND\n",
    "- $\\oplus$ represents bitwise XOR\n",
    "- $\\neg$ represents bitwise NOT (complement)\n",
    "\n",
    "#### Why is it Called \"Choose\"?\n",
    "\n",
    "The Ch function is called \"choose\" because it uses `x` as a **selector**:\n",
    "- When a bit in `x` is **1**, the corresponding bit from `y` is chosen\n",
    "- When a bit in `x` is **0**, the corresponding bit from `z` is chosen\n",
    "\n",
    "This can also be written as: **\"x chooses between y and z\"**\n",
    "\n",
    "#### Logical Explanation\n",
    "\n",
    "The formula works as follows:\n",
    "1. `(x & y)` - Where x has 1's, keep the bits from y\n",
    "2. `(~x & z)` - Where x has 0's (meaning ~x has 1's), keep the bits from z\n",
    "3. XOR these together to get the final result\n",
    "\n",
    "This function provides [confusion](https://en.wikipedia.org/wiki/Confusion_and_diffusion) in the cryptographic sense, making the relationship between the key and ciphertext complex."
   ]
  },
  {
   "cell_type": "code",
   "execution_count": 11,
   "id": "747b8837",
   "metadata": {},
   "outputs": [],
   "source": [
    "def Ch(x, y, z):\n",
    "    \"\"\"\n",
    "    Calculate the Ch (Choose) function for SHA-256.\n",
    "    \n",
    "    As defined in Section 4.1.2 (equation 4.2) of FIPS 180-4,\n",
    "    this function chooses bits from y or z based on the bits in x.\n",
    "    \n",
    "    The formula is: Ch(x, y, z) = (x ∧ y) ⊕ (¬x ∧ z)\n",
    "    \n",
    "    Where x is 1, choose from y; where x is 0, choose from z.\n",
    "    \n",
    "    Parameters\n",
    "    ----------\n",
    "    x : int or numpy.uint32\n",
    "        Selector word (32-bit)\n",
    "    y : int or numpy.uint32\n",
    "        First choice word (32-bit)\n",
    "    z : int or numpy.uint32\n",
    "        Second choice word (32-bit)\n",
    "        \n",
    "    Returns\n",
    "    -------\n",
    "    numpy.uint32\n",
    "        Result of the choose operation\n",
    "        \n",
    "    References\n",
    "    ----------\n",
    "    FIPS 180-4, Section 4.1.2, page 10\n",
    "    https://nvlpubs.nist.gov/nistpubs/FIPS/NIST.FIPS.180-4.pdf\n",
    "    \"\"\"\n",
    "    # Convert to 32-bit unsigned integers.\n",
    "    x = np.uint32(x)\n",
    "    y = np.uint32(y)\n",
    "    z = np.uint32(z)\n",
    "    \n",
    "    # Calculate (x AND y) - where x is 1, use bits from y.\n",
    "    # The & operator performs bitwise AND.\n",
    "    part1 = x & y\n",
    "    \n",
    "    # Calculate (NOT x AND z) - where x is 0, use bits from z.\n",
    "    # The ~ operator performs bitwise NOT (complement).\n",
    "    part2 = (~x) & z\n",
    "    \n",
    "    # XOR the two parts together.\n",
    "    return part1 ^ part2"
   ]
  },
  {
   "cell_type": "markdown",
   "id": "0106b4fb",
   "metadata": {},
   "source": [
    "#### Demonstrating How Ch \"Chooses\"\n",
    "\n",
    "Let me show how the Ch function selects bits from y or z based on x:"
   ]
  },
  {
   "cell_type": "code",
   "execution_count": 12,
   "id": "1cbf37dd",
   "metadata": {},
   "outputs": [
    {
     "name": "stdout",
     "output_type": "stream",
     "text": [
      "Demonstrating Ch function:\n",
      "x (selector) = 11110000\n",
      "y (1st choice)= 10101010\n",
      "z (2nd choice)= 01010101\n",
      "Ch(x,y,z)    = 10100101\n",
      "\n",
      "Notice: where x=1, result takes from y (1010)\n",
      "        where x=0, result takes from z (0101)\n"
     ]
    }
   ],
   "source": [
    "# Simple example to demonstrate the \"choose\" behavior.\n",
    "x_ch = 0b11110000  # Selector: 1111 0000\n",
    "y_ch = 0b10101010  # First choice: 1010 1010\n",
    "z_ch = 0b01010101  # Second choice: 0101 0101\n",
    "\n",
    "result_ch = Ch(x_ch, y_ch, z_ch)\n",
    "\n",
    "print(\"Demonstrating Ch function:\")\n",
    "print(f\"x (selector) = {x_ch:08b}\")\n",
    "print(f\"y (1st choice)= {y_ch:08b}\")\n",
    "print(f\"z (2nd choice)= {z_ch:08b}\")\n",
    "print(f\"Ch(x,y,z)    = {result_ch:08b}\")\n",
    "print()\n",
    "print(\"Notice: where x=1, result takes from y (1010)\")\n",
    "print(\"        where x=0, result takes from z (0101)\")"
   ]
  },
  {
   "cell_type": "markdown",
   "id": "a28f91a3",
   "metadata": {},
   "source": [
    "#### Testing Ch with 32-bit Values"
   ]
  },
  {
   "cell_type": "code",
   "execution_count": 13,
   "id": "394ecb94",
   "metadata": {},
   "outputs": [
    {
     "name": "stdout",
     "output_type": "stream",
     "text": [
      "Ch(0x6a09e667, 0xbb67ae85, 0x3c6ef372) = 0x3e67b715\n"
     ]
    }
   ],
   "source": [
    "# Test Ch with full 32-bit values.\n",
    "result_ch_full = Ch(0x6a09e667, 0xbb67ae85, 0x3c6ef372)\n",
    "print(f\"Ch(0x6a09e667, 0xbb67ae85, 0x3c6ef372) = 0x{result_ch_full:08x}\")"
   ]
  },
  {
   "cell_type": "markdown",
   "id": "b1e73cdc",
   "metadata": {},
   "source": [
    "#### My Understanding: Ch as a Multiplexer\n",
    "\n",
    "The Ch function acts like a digital multiplexer in hardware:\n",
    "- `x` is the **selector signal**\n",
    "- `y` and `z` are the **data inputs**\n",
    "- The output selects from y when x=1, from z when x=0\n",
    "\n",
    "This is more efficient than: `if x then y else z` because it works on all 32 bits simultaneously.\n",
    "\n",
    "Let me verify with edge cases:"
   ]
  },
  {
   "cell_type": "code",
   "execution_count": 14,
   "id": "86daf24b",
   "metadata": {},
   "outputs": [
    {
     "name": "stdout",
     "output_type": "stream",
     "text": [
      "Edge Case Tests for Ch:\n",
      "\n",
      "When x = 0xFFFFFFFF (all 1s):\n",
      "Ch(x, 0x12345678, 0xabcdef00) = 0x12345678\n",
      "Should equal y: True ✓\n",
      "\n",
      "When x = 0x00000000 (all 0s):\n",
      "Ch(x, 0x12345678, 0xabcdef00) = 0xabcdef00\n",
      "Should equal z: True ✓\n",
      "\n",
      "When y = z = 0xaaaaaaaa:\n",
      "Ch(0x12345678, y, z) = 0xaaaaaaaa\n",
      "Should equal y and z: True ✓\n"
     ]
    }
   ],
   "source": [
    "# Edge case tests for Ch function\n",
    "print(\"Edge Case Tests for Ch:\")\n",
    "print()\n",
    "\n",
    "# Case 1: When x is all 1's, should get y\n",
    "x_all_ones = 0xFFFFFFFF\n",
    "y_test = 0x12345678\n",
    "z_test = 0xABCDEF00\n",
    "result1 = Ch(x_all_ones, y_test, z_test)\n",
    "print(f\"When x = 0xFFFFFFFF (all 1s):\")\n",
    "print(f\"Ch(x, 0x{y_test:08x}, 0x{z_test:08x}) = 0x{result1:08x}\")\n",
    "print(f\"Should equal y: {result1 == y_test} ✓\" if result1 == y_test else f\"ERROR\")\n",
    "print()\n",
    "\n",
    "# Case 2: When x is all 0's, should get z\n",
    "x_all_zeros = 0x00000000\n",
    "result2 = Ch(x_all_zeros, y_test, z_test)\n",
    "print(f\"When x = 0x00000000 (all 0s):\")\n",
    "print(f\"Ch(x, 0x{y_test:08x}, 0x{z_test:08x}) = 0x{result2:08x}\")\n",
    "print(f\"Should equal z: {result2 == z_test} ✓\" if result2 == z_test else f\"ERROR\")\n",
    "print()\n",
    "\n",
    "# Case 3: When y and z are same, result should equal y (and z)\n",
    "y_same = 0xAAAAAAAA\n",
    "z_same = 0xAAAAAAAA\n",
    "x_random = 0x12345678\n",
    "result3 = Ch(x_random, y_same, z_same)\n",
    "print(f\"When y = z = 0x{y_same:08x}:\")\n",
    "print(f\"Ch(0x{x_random:08x}, y, z) = 0x{result3:08x}\")\n",
    "print(f\"Should equal y and z: {result3 == y_same} ✓\" if result3 == y_same else f\"ERROR\")"
   ]
  },
  {
   "cell_type": "markdown",
   "id": "de7efebb",
   "metadata": {},
   "source": [
    "---\n",
    "\n",
    "### Function 3: Maj(x, y, z)\n",
    "\n",
    "#### What is the Maj Function?\n",
    "\n",
    "The `Maj` function (short for \"Majority\") is defined in **Section 4.1.2, equation (4.1)** on page 10 of the standard:\n",
    "\n",
    "$$\\text{Maj}(x, y, z) = (x \\land y) \\oplus (x \\land z) \\oplus (y \\land z)$$\n",
    "\n",
    "#### Why is it Called \"Majority\"?\n",
    "\n",
    "The Maj function returns the **majority bit** at each position:\n",
    "- If **two or more** of the corresponding bits in x, y, and z are 1, the result is 1\n",
    "- If **two or more** of the corresponding bits are 0, the result is 0\n",
    "\n",
    "Think of it as a **voting system** where each bit position votes, and the majority wins.\n",
    "\n",
    "#### How It Works Mathematically\n",
    "\n",
    "The formula can be understood as:\n",
    "1. `(x & y)` - pairs where both x and y are 1\n",
    "2. `(x & z)` - pairs where both x and z are 1  \n",
    "3. `(y & z)` - pairs where both y and z are 1\n",
    "4. XOR all three results\n",
    "\n",
    "If a bit appears in at least two of the three inputs, it will survive the XOR operations."
   ]
  },
  {
   "cell_type": "code",
   "execution_count": 15,
   "id": "bfa6ebcf",
   "metadata": {},
   "outputs": [],
   "source": [
    "def Maj(x, y, z):\n",
    "    \"\"\"\n",
    "    Calculate the Maj (Majority) function for SHA-256.\n",
    "    \n",
    "    As defined in Section 4.1.2 (equation 4.1) of FIPS 180-4,\n",
    "    this function returns the majority bit at each position.\n",
    "    \n",
    "    The formula is: Maj(x, y, z) = (x ∧ y) ⊕ (x ∧ z) ⊕ (y ∧ z)\n",
    "    \n",
    "    For each bit position, if two or more inputs have a 1, the result is 1.\n",
    "    \n",
    "    Parameters\n",
    "    ----------\n",
    "    x, y, z : int or numpy.uint32\n",
    "        Three 32-bit words to compare\n",
    "        \n",
    "    Returns\n",
    "    -------\n",
    "    numpy.uint32\n",
    "        The majority value at each bit position\n",
    "        \n",
    "    References\n",
    "    ----------\n",
    "    FIPS 180-4, Section 4.1.2, page 10\n",
    "    https://nvlpubs.nist.gov/nistpubs/FIPS/NIST.FIPS.180-4.pdf\n",
    "    \"\"\"\n",
    "    # Convert to 32-bit unsigned integers.\n",
    "    x = np.uint32(x)\n",
    "    y = np.uint32(y)\n",
    "    z = np.uint32(z)\n",
    "    \n",
    "    # Calculate all three AND combinations.\n",
    "    # These represent positions where pairs of inputs agree.\n",
    "    xy = x & y\n",
    "    xz = x & z\n",
    "    yz = y & z\n",
    "    \n",
    "    # XOR the three results.\n",
    "    # This gives us the majority bit at each position.\n",
    "    return xy ^ xz ^ yz"
   ]
  },
  {
   "cell_type": "markdown",
   "id": "2fa58bfd",
   "metadata": {},
   "source": [
    "#### Demonstrating the Majority Function\n",
    "\n",
    "Let's verify that Maj truly returns the majority bit:"
   ]
  },
  {
   "cell_type": "code",
   "execution_count": 16,
   "id": "2f8e92ff",
   "metadata": {},
   "outputs": [
    {
     "name": "stdout",
     "output_type": "stream",
     "text": [
      "Demonstrating Maj function (majority voting):\n",
      "x = 11110000\n",
      "y = 11001100\n",
      "z = 10101010\n",
      "Maj = 11101000\n",
      "\n",
      "Bit-by-bit analysis:\n",
      "Position  x y z  Majority\n",
      "   7      1 1 1    1  (3/3 are 1)\n",
      "   6      1 1 0    1  (2/3 are 1)\n",
      "   5      1 0 1    1  (2/3 are 1)\n",
      "   4      1 0 0    0  (1/3 are 1)\n",
      "   3      0 1 1    1  (2/3 are 1)\n",
      "   2      0 1 0    0  (1/3 are 1)\n",
      "   1      0 0 1    0  (1/3 are 1)\n",
      "   0      0 0 0    0  (0/3 are 1)\n"
     ]
    }
   ],
   "source": [
    "# Example showing majority voting behavior.\n",
    "x_maj = 0b11110000  # 1111 0000\n",
    "y_maj = 0b11001100  # 1100 1100\n",
    "z_maj = 0b10101010  # 1010 1010\n",
    "\n",
    "result_maj = Maj(x_maj, y_maj, z_maj)\n",
    "\n",
    "print(\"Demonstrating Maj function (majority voting):\")\n",
    "print(f\"x = {x_maj:08b}\")\n",
    "print(f\"y = {y_maj:08b}\")\n",
    "print(f\"z = {z_maj:08b}\")\n",
    "print(f\"Maj = {result_maj:08b}\")\n",
    "print()\n",
    "print(\"Bit-by-bit analysis:\")\n",
    "print(\"Position  x y z  Majority\")\n",
    "for i in range(7, -1, -1):\n",
    "    x_bit = (x_maj >> i) & 1\n",
    "    y_bit = (y_maj >> i) & 1\n",
    "    z_bit = (z_maj >> i) & 1\n",
    "    maj_bit = (result_maj >> i) & 1\n",
    "    count_ones = x_bit + y_bit + z_bit\n",
    "    print(f\"   {i}      {x_bit} {y_bit} {z_bit}    {maj_bit}  ({count_ones}/3 are 1)\")"
   ]
  },
  {
   "cell_type": "markdown",
   "id": "15377587",
   "metadata": {},
   "source": [
    "#### Testing Maj with 32-bit Values"
   ]
  },
  {
   "cell_type": "code",
   "execution_count": 17,
   "id": "f0a30328",
   "metadata": {},
   "outputs": [
    {
     "name": "stdout",
     "output_type": "stream",
     "text": [
      "Maj(0x6a09e667, 0xbb67ae85, 0x3c6ef372) = 0x3a6fe667\n"
     ]
    }
   ],
   "source": [
    "# Test with full 32-bit values (these are actually SHA-256 initial hash values).\n",
    "result_maj_full = Maj(0x6a09e667, 0xbb67ae85, 0x3c6ef372)\n",
    "print(f\"Maj(0x6a09e667, 0xbb67ae85, 0x3c6ef372) = 0x{result_maj_full:08x}\")"
   ]
  },
  {
   "cell_type": "markdown",
   "id": "28d12618",
   "metadata": {},
   "source": [
    "---\n",
    "\n",
    "### Rotation Functions Overview\n",
    "\n",
    "The remaining four functions involve **bit rotation** and **bit shifting** operations. These are crucial for mixing the bits in SHA-256 and ensuring that small changes in input produce large changes in output (the [avalanche effect](https://en.wikipedia.org/wiki/Avalanche_effect)).\n",
    "\n",
    "#### Understanding Bit Operations\n",
    "\n",
    "Before implementing the functions, let's understand the three key operations defined in **Section 3.2** (page 9) of the standard:\n",
    "\n",
    "1. **ROTR^n(x)** - Rotate right: circular shift n positions to the right\n",
    "2. **SHR^n(x)** - Shift right: shift n positions right, filling with zeros\n",
    "3. **ROTL^n(x)** - Rotate left: circular shift n positions to the left (not used in SHA-256)\n",
    "\n",
    "The difference between **rotate** and **shift**:\n",
    "- **Rotate**: Bits that fall off one end appear at the other end (circular)\n",
    "- **Shift**: Bits that fall off are lost, and zeros fill the empty positions"
   ]
  },
  {
   "cell_type": "markdown",
   "id": "0326f210",
   "metadata": {},
   "source": [
    "#### Helper Functions: ROTR and SHR\n",
    "\n",
    "Let me first implement the basic rotation and shift operations as helper functions:"
   ]
  },
  {
   "cell_type": "code",
   "execution_count": 18,
   "id": "1261de4d",
   "metadata": {},
   "outputs": [],
   "source": [
    "def ROTR(x, n):\n",
    "    \"\"\"\n",
    "    Rotate right (circular right shift).\n",
    "    \n",
    "    As defined in Section 3.2 of FIPS 180-4, this performs\n",
    "    a circular shift of n positions to the right.\n",
    "    \n",
    "    Bits that fall off the right end appear on the left end.\n",
    "    \n",
    "    Parameters\n",
    "    ----------\n",
    "    x : int or numpy.uint32\n",
    "        32-bit word to rotate\n",
    "    n : int\n",
    "        Number of positions to rotate (0-31)\n",
    "        \n",
    "    Returns\n",
    "    -------\n",
    "    numpy.uint32\n",
    "        The rotated value\n",
    "        \n",
    "    References\n",
    "    ----------\n",
    "    FIPS 180-4, Section 3.2, page 9\n",
    "    \"\"\"\n",
    "    x = np.uint32(x)\n",
    "    # Rotate right: shift right n positions OR shift left (32-n) positions.\n",
    "    # The OR combines the bits that wrapped around.\n",
    "    return (x >> n) | (x << (32 - n))"
   ]
  },
  {
   "cell_type": "code",
   "execution_count": 19,
   "id": "fef9042b",
   "metadata": {},
   "outputs": [],
   "source": [
    "def SHR(x, n):\n",
    "    \"\"\"\n",
    "    Shift right (logical right shift).\n",
    "    \n",
    "    As defined in Section 3.2 of FIPS 180-4, this shifts\n",
    "    n positions to the right, filling with zeros on the left.\n",
    "    \n",
    "    Bits that fall off the right are lost.\n",
    "    \n",
    "    Parameters\n",
    "    ----------\n",
    "    x : int or numpy.uint32\n",
    "        32-bit word to shift\n",
    "    n : int\n",
    "        Number of positions to shift (0-31)\n",
    "        \n",
    "    Returns\n",
    "    -------\n",
    "    numpy.uint32\n",
    "        The shifted value\n",
    "        \n",
    "    References\n",
    "    ----------\n",
    "    FIPS 180-4, Section 3.2, page 9\n",
    "    \"\"\"\n",
    "    x = np.uint32(x)\n",
    "    # Simple right shift - zeros automatically fill from the left.\n",
    "    return x >> n"
   ]
  },
  {
   "cell_type": "markdown",
   "id": "f1ded8b7",
   "metadata": {},
   "source": [
    "#### Visualizing Rotate vs Shift\n",
    "\n",
    "Let me demonstrate the difference between rotate and shift:"
   ]
  },
  {
   "cell_type": "code",
   "execution_count": 20,
   "id": "ecb3507a",
   "metadata": {},
   "outputs": [
    {
     "name": "stdout",
     "output_type": "stream",
     "text": [
      "Original:         11010110 (214)\n",
      "Rotate right 3:  11000000000000000000000000011010 (3221225498)\n",
      "Shift right 3:   00011010 (26)\n",
      "\n",
      "Notice:\n",
      "- ROTR: bits '110' moved from right to left (circular)\n",
      "- SHR:  bits '110' lost, zeros filled from left\n"
     ]
    }
   ],
   "source": [
    "# Example with 8 bits for clarity (same principle applies to 32 bits).\n",
    "test_val = 0b11010110  # Example value\n",
    "n_positions = 3\n",
    "\n",
    "# Show the operations using 8-bit representation for simplicity.\n",
    "rotated = ROTR(test_val, n_positions)\n",
    "shifted = SHR(test_val, n_positions)\n",
    "\n",
    "print(f\"Original:         {test_val:08b} ({test_val})\")\n",
    "print(f\"Rotate right {n_positions}:  {rotated:08b} ({rotated})\")\n",
    "print(f\"Shift right {n_positions}:   {shifted:08b} ({shifted})\")\n",
    "print()\n",
    "print(\"Notice:\")\n",
    "print(\"- ROTR: bits '110' moved from right to left (circular)\")\n",
    "print(\"- SHR:  bits '110' lost, zeros filled from left\")"
   ]
  },
  {
   "cell_type": "markdown",
   "id": "fa016508",
   "metadata": {},
   "source": [
    "#### My Exploration: Why Both ROTR and SHR?\n",
    "\n",
    "After studying the standard, I wondered: **Why does SHA-256 use both rotation AND shift?**\n",
    "\n",
    "My research findings:\n",
    "1. **ROTR (Rotate)** preserves all information - no bits lost, reversible\n",
    "2. **SHR (Shift)** loses information - creates diffusion, not reversible\n",
    "3. Using **both** provides a balance:\n",
    "   - Rotation: maintains bit mixing without information loss\n",
    "   - Shift: introduces irreversibility for security\n",
    "\n",
    "The lowercase sigma functions (σ₀, σ₁) use BOTH because they're in the message schedule,\n",
    "where we want thorough mixing but also some information loss for security.\n",
    "\n",
    "Let me verify the bit preservation:"
   ]
  },
  {
   "cell_type": "code",
   "execution_count": 21,
   "id": "b3107c8e",
   "metadata": {},
   "outputs": [
    {
     "name": "stdout",
     "output_type": "stream",
     "text": [
      "Bit Preservation Test:\n",
      "Original:     11010110 (bits set: 5)\n",
      "\n",
      "After ROTR 3: 11000000000000000000000000011010 (bits set: 5)\n",
      "Same number of 1s? True ✓\n",
      "\n",
      "After SHR 3:  00011010 (bits set: 3)\n",
      "Lost bits? True ✓\n",
      "\n",
      "Conclusion: ROTR is reversible (can rotate back), SHR is not!\n"
     ]
    }
   ],
   "source": [
    "# Verify: ROTR preserves all bits, SHR loses bits\n",
    "test_value = 0b11010110  # 8-bit for clarity\n",
    "\n",
    "print(\"Bit Preservation Test:\")\n",
    "print(f\"Original:     {test_value:08b} (bits set: {bin(test_value).count('1')})\")\n",
    "print()\n",
    "\n",
    "# Count 1-bits in ROTR result\n",
    "rotated = ROTR(test_value, 3)\n",
    "print(f\"After ROTR 3: {rotated:08b} (bits set: {bin(int(rotated)).count('1')})\")\n",
    "print(f\"Same number of 1s? {bin(test_value).count('1') == bin(int(rotated)).count('1')} ✓\")\n",
    "print()\n",
    "\n",
    "# Count 1-bits in SHR result  \n",
    "shifted = SHR(test_value, 3)\n",
    "print(f\"After SHR 3:  {shifted:08b} (bits set: {bin(int(shifted)).count('1')})\")\n",
    "print(f\"Lost bits? {bin(test_value).count('1') != bin(int(shifted)).count('1')} ✓\")\n",
    "print()\n",
    "print(\"Conclusion: ROTR is reversible (can rotate back), SHR is not!\")"
   ]
  },
  {
   "cell_type": "markdown",
   "id": "8bb23a3c",
   "metadata": {},
   "source": [
    "---\n",
    "\n",
    "### Function 4: Sigma0(x) - Written as $\\Sigma_0^{\\{256\\}}(x)$\n",
    "\n",
    "#### What is Sigma0?\n",
    "\n",
    "The $\\Sigma_0$ function is defined in **Section 4.1.2, equation (4.4)** on page 10 of the standard for SHA-256:\n",
    "\n",
    "$$\\Sigma_0^{\\{256\\}}(x) = \\text{ROTR}^2(x) \\oplus \\text{ROTR}^{13}(x) \\oplus \\text{ROTR}^{22}(x)$$\n",
    "\n",
    "This function rotates the input `x` by 2, 13, and 22 positions, then XORs the results together.\n",
    "\n",
    "#### Why These Specific Rotation Amounts?\n",
    "\n",
    "The rotation amounts (2, 13, 22) were carefully chosen by cryptographers to:\n",
    "1. Maximize the **diffusion** of bits throughout the hash\n",
    "2. Ensure that patterns are thoroughly mixed\n",
    "3. Prevent cryptanalytic attacks\n",
    "\n",
    "These values have been extensively analyzed and provide optimal security properties for SHA-256."
   ]
  },
  {
   "cell_type": "code",
   "execution_count": 22,
   "id": "74a41899",
   "metadata": {},
   "outputs": [],
   "source": [
    "def Sigma0(x):\n",
    "    \"\"\"\n",
    "    Calculate the Σ₀ (Sigma-zero) function for SHA-256.\n",
    "    \n",
    "    As defined in Section 4.1.2 (equation 4.4) of FIPS 180-4,\n",
    "    this function performs three rotations and XORs them together.\n",
    "    \n",
    "    Formula: Σ₀(x) = ROTR²(x) ⊕ ROTR¹³(x) ⊕ ROTR²²(x)\n",
    "    \n",
    "    This is used in the SHA-256 compression function.\n",
    "    \n",
    "    Parameters\n",
    "    ----------\n",
    "    x : int or numpy.uint32\n",
    "        32-bit word to process\n",
    "        \n",
    "    Returns\n",
    "    -------\n",
    "    numpy.uint32\n",
    "        Result of the Σ₀ operation\n",
    "        \n",
    "    References\n",
    "    ----------\n",
    "    FIPS 180-4, Section 4.1.2, page 10\n",
    "    https://nvlpubs.nist.gov/nistpubs/FIPS/NIST.FIPS.180-4.pdf\n",
    "    \"\"\"\n",
    "    x = np.uint32(x)\n",
    "    \n",
    "    # Rotate x by 2, 13, and 22 positions.\n",
    "    rot2 = ROTR(x, 2)\n",
    "    rot13 = ROTR(x, 13)\n",
    "    rot22 = ROTR(x, 22)\n",
    "    \n",
    "    # XOR all three rotations together.\n",
    "    return rot2 ^ rot13 ^ rot22"
   ]
  },
  {
   "cell_type": "markdown",
   "id": "08d0cb8d",
   "metadata": {},
   "source": [
    "#### Testing Sigma0"
   ]
  },
  {
   "cell_type": "code",
   "execution_count": 23,
   "id": "1fe58300",
   "metadata": {},
   "outputs": [
    {
     "name": "stdout",
     "output_type": "stream",
     "text": [
      "Σ₀(0x6a09e667) = 0xce20b47e\n"
     ]
    }
   ],
   "source": [
    "# Test Sigma0 with a 32-bit value.\n",
    "test_sigma0 = 0x6a09e667\n",
    "result_sigma0 = Sigma0(test_sigma0)\n",
    "print(f\"Σ₀(0x{test_sigma0:08x}) = 0x{result_sigma0:08x}\")"
   ]
  },
  {
   "cell_type": "markdown",
   "id": "7fafbf30",
   "metadata": {},
   "source": [
    "---\n",
    "\n",
    "### Function 5: Sigma1(x) - Written as $\\Sigma_1^{\\{256\\}}(x)$\n",
    "\n",
    "#### What is Sigma1?\n",
    "\n",
    "The $\\Sigma_1$ function is defined in **Section 4.1.2, equation (4.5)** on page 10 of the standard:\n",
    "\n",
    "$$\\Sigma_1^{\\{256\\}}(x) = \\text{ROTR}^6(x) \\oplus \\text{ROTR}^{11}(x) \\oplus \\text{ROTR}^{25}(x)$$\n",
    "\n",
    "Similar to $\\Sigma_0$, but with different rotation amounts (6, 11, 25)."
   ]
  },
  {
   "cell_type": "code",
   "execution_count": 24,
   "id": "3c790da8",
   "metadata": {},
   "outputs": [],
   "source": [
    "def Sigma1(x):\n",
    "    \"\"\"\n",
    "    Calculate the Σ₁ (Sigma-one) function for SHA-256.\n",
    "    \n",
    "    As defined in Section 4.1.2 (equation 4.5) of FIPS 180-4,\n",
    "    this function performs three rotations and XORs them together.\n",
    "    \n",
    "    Formula: Σ₁(x) = ROTR⁶(x) ⊕ ROTR¹¹(x) ⊕ ROTR²⁵(x)\n",
    "    \n",
    "    This is used in the SHA-256 compression function.\n",
    "    \n",
    "    Parameters\n",
    "    ----------\n",
    "    x : int or numpy.uint32\n",
    "        32-bit word to process\n",
    "        \n",
    "    Returns\n",
    "    -------\n",
    "    numpy.uint32\n",
    "        Result of the Σ₁ operation\n",
    "        \n",
    "    References\n",
    "    ----------\n",
    "    FIPS 180-4, Section 4.1.2, page 10\n",
    "    https://nvlpubs.nist.gov/nistpubs/FIPS/NIST.FIPS.180-4.pdf\n",
    "    \"\"\"\n",
    "\n",
    "    x = np.uint32(x)\n",
    "    \n",
    "    # Rotate x by 6, 11, and 25 positions.\n",
    "    rot6 = ROTR(x, 6)\n",
    "    rot11 = ROTR(x, 11)\n",
    "    rot25 = ROTR(x, 25)\n",
    "    \n",
    "    # XOR all three rotations together.\n",
    "    return rot6 ^ rot11 ^ rot25"
   ]
  },
  {
   "cell_type": "markdown",
   "id": "8187fb55",
   "metadata": {},
   "source": [
    "#### Testing Sigma1"
   ]
  },
  {
   "cell_type": "code",
   "execution_count": 25,
   "id": "43928ebe",
   "metadata": {},
   "outputs": [
    {
     "name": "stdout",
     "output_type": "stream",
     "text": [
      "Σ₁(0x510e527f) = 0x3587272b\n"
     ]
    }
   ],
   "source": [
    "# Test Sigma1 with a 32-bit value.\n",
    "test_sigma1 = 0x510e527f\n",
    "result_sigma1 = Sigma1(test_sigma1)\n",
    "print(f\"Σ₁(0x{test_sigma1:08x}) = 0x{result_sigma1:08x}\")"
   ]
  },
  {
   "cell_type": "markdown",
   "id": "50231c60",
   "metadata": {},
   "source": [
    "---\n",
    "\n",
    "### Function 6: sigma0(x) - Written as $\\sigma_0^{\\{256\\}}(x)$\n",
    "\n",
    "#### What is sigma0? (lowercase sigma)\n",
    "\n",
    "The $\\sigma_0$ function (lowercase sigma) is defined in **Section 4.1.2, equation (4.6)** on page 10:\n",
    "\n",
    "$$\\sigma_0^{\\{256\\}}(x) = \\text{ROTR}^7(x) \\oplus \\text{ROTR}^{18}(x) \\oplus \\text{SHR}^3(x)$$\n",
    "\n",
    "#### Key Difference from Uppercase Sigma\n",
    "\n",
    "Notice that this function uses **both rotation AND shifting**:\n",
    "- The first two operations are rotations (ROTR)\n",
    "- The third operation is a **shift** (SHR), not a rotation\n",
    "\n",
    "This mixing of rotation and shift operations adds additional complexity and security to SHA-256.\n",
    "\n",
    "#### Where is it Used?\n",
    "\n",
    "The lowercase sigma functions ($\\sigma_0$ and $\\sigma_1$) are used in the **message schedule** (see Section 6.2.2, page 22), where they help expand the original message block into 64 words for processing."
   ]
  },
  {
   "cell_type": "code",
   "execution_count": null,
   "id": "2c184609",
   "metadata": {},
   "outputs": [],
   "source": [
    "def sigma0(x):\n",
    "    \"\"\"\n",
    "    Calculate the σ₀ (sigma-zero) function for SHA-256.\n",
    "    \n",
    "    As defined in Section 4.1.2 (equation 4.6) of FIPS 180-4,\n",
    "    this function uses two rotations and one shift, XORed together.\n",
    "    \n",
    "    Formula: σ₀(x) = ROTR⁷(x) ⊕ ROTR¹⁸(x) ⊕ SHR³(x)\n",
    "    \n",
    "    Used in the message schedule of SHA-256.\n",
    "    \n",
    "    Parameters\n",
    "    ----------\n",
    "    x : int or numpy.uint32\n",
    "        32-bit word to process\n",
    "        \n",
    "    Returns\n",
    "    -------\n",
    "    numpy.uint32\n",
    "        Result of the σ₀ operation\n",
    "        \n",
    "    References\n",
    "    ----------\n",
    "    FIPS 180-4, Section 4.1.2, page 10\n",
    "    https://nvlpubs.nist.gov/nistpubs/FIPS/NIST.FIPS.180-4.pdf\n",
    "    \"\"\"\n",
    "    x = np.uint32(x)\n",
    "    \n",
    "    # Two rotations: 7 and 18 positions.\n",
    "    rot7 = ROTR(x, 7)\n",
    "    rot18 = ROTR(x, 18)\n",
    "    \n",
    "    # One shift: 3 positions (note: not a rotation!).\n",
    "    shr3 = SHR(x, 3)\n",
    "    \n",
    "    # XOR all three together.\n",
    "    return rot7 ^ rot18 ^ shr3"
   ]
  },
  {
   "cell_type": "markdown",
   "id": "f116e477",
   "metadata": {
    "vscode": {
     "languageId": "plaintext"
    }
   },
   "source": [
    "## Problem 2: Fractional Parts of Cube Roots\n",
    "\n",
    "As specified in [Section 4.2.2 of FIPS 180-4](https://nvlpubs.nist.gov/nistpubs/FIPS/NIST.FIPS.180-4.pdf) (page 11), the SHA-256 algorithm requires 64 constants $K_0, K_1, ..., K_{63}$:\n",
    "\n",
    "> \"These words represent the first thirty-two bits of the fractional parts of the cube roots of the first sixty-four prime numbers.\"\n",
    "\n",
    "For the $t^{th}$ constant where $t = 0, 1, ..., 63$:\n",
    "\n",
    "$$K_t = \\lfloor 2^{32} \\cdot \\text{frac}(\\sqrt[3]{p_t}) \\rfloor$$\n",
    "\n",
    "where $p_t$ is the $(t+1)^{th}$ prime number, $\\text{frac}(x) = x - \\lfloor x \\rfloor$ is the fractional part, and $\\lfloor \\cdot \\rfloor$ is the floor function ([Mathematical functions - Python documentation](https://docs.python.org/3/library/math.html#number-theoretic-and-representation-functions)).\n",
    "\n",
    "**What are these K constants?**  \n",
    "SHA-256 processes data through 64 rounds of mathematical operations. In each round, it uses one of these K constants - they're like \"secret ingredients\" mixed into the computation to make the hash unpredictable and secure.\n",
    "\n",
    "**Why derive them from cube roots of primes?**  \n",
    "These constants must be carefully chosen to prevent security vulnerabilities. If someone secretly chose special values that created hidden weaknesses, the entire system could be compromised. By deriving them from mathematical constants (cube roots of primes), the designers prove there's no hidden backdoor - anyone can verify the calculations independently.\n",
    "\n",
    "**The practical impact:**  \n",
    "These 64 numbers are hardcoded into every SHA-256 implementation worldwide. Understanding how they're generated demonstrates both:\n",
    "- The mathematical rigor behind cryptographic standards\n",
    "- The transparency required to earn trust in security systems\n",
    "\n",
    "This problem bridges pure mathematics (prime numbers, cube roots) with real-world security applications used by billions of devices daily."
   ]
  },
  {
   "cell_type": "markdown",
   "id": "94ea2371",
   "metadata": {},
   "source": [
    "### Cryptographic Design Principle\n",
    "\n",
    "The constants are derived using [nothing-up-my-sleeve numbers](https://en.wikipedia.org/wiki/Nothing-up-my-sleeve_number) - a principle in cryptographic design ensuring transparency. As stated in the FIPS 180-4 standard, these values are computed from the cube roots of the first 64 primes, allowing independent verification.\n",
    "\n",
    "The SHA-256 specification uses:\n",
    "- **Square roots** of first 8 primes for initial hash values $H^{(256)}_0$ ([Section 5.3.3, page 15](https://nvlpubs.nist.gov/nistpubs/FIPS/NIST.FIPS.180-4.pdf))\n",
    "- **Cube roots** of first 64 primes for round constants $K_t$ ([Section 4.2.2, page 11](https://nvlpubs.nist.gov/nistpubs/FIPS/NIST.FIPS.180-4.pdf))"
   ]
  },
  {
   "cell_type": "code",
   "execution_count": 1,
   "id": "815cca48",
   "metadata": {},
   "outputs": [],
   "source": [
    "# Import required libraries.\n",
    "# NumPy documentation: https://numpy.org/doc/stable/\n",
    "import numpy as np"
   ]
  },
  {
   "cell_type": "markdown",
   "id": "847f4811",
   "metadata": {},
   "source": [
    "### Step 1: Prime Number Generation\n",
    "\n",
    "A prime number is a natural number greater than 1 with no positive divisors other than 1 and itself ([Prime number - Wikipedia](https://en.wikipedia.org/wiki/Prime_number)).\n",
    "\n",
    "The [trial division algorithm](https://en.wikipedia.org/wiki/Trial_division) checks divisibility by previously found primes. As demonstrated in the module's `prime_numbers.ipynb`, we optimize by testing only up to $\\sqrt{n}$: for any composite number $n = a \\times b$ where $a \\leq b$, we have $a \\leq \\sqrt{n}$."
   ]
  },
  {
   "cell_type": "code",
   "execution_count": null,
   "id": "e33038d9",
   "metadata": {},
   "outputs": [],
   "source": [
    "def primes(n):\n",
    "    \"\"\"\n",
    "    Generate the first n prime numbers using trial division.\n",
    "    \n",
    "    Parameters\n",
    "    ----------\n",
    "    n : int\n",
    "        Number of primes to generate.\n",
    "    \n",
    "    Returns\n",
    "    -------\n",
    "    list of int\n",
    "        The first n prime numbers in ascending order.\n",
    "    \n",
    "    References\n",
    "    ----------\n",
    "    Trial division: https://en.wikipedia.org/wiki/Trial_division\n",
    "    Adapted from module's prime_numbers.ipynb.\n",
    "    \"\"\"\n",
    "    if n <= 0:\n",
    "        return []\n",
    "    \n",
    "    prime_list = []\n",
    "    candidate = 2\n",
    "    \n",
    "    while len(prime_list) < n:\n",
    "        is_prime = True\n",
    "        \n",
    "        # Check divisibility only by primes up to sqrt(candidate).\n",
    "        for p in prime_list:\n",
    "            if p * p > candidate:\n",
    "                break\n",
    "            if candidate % p == 0:\n",
    "                is_prime = False\n",
    "                break\n",
    "        \n",
    "        if is_prime:\n",
    "            prime_list.append(candidate)\n",
    "        \n",
    "        candidate += 1\n",
    "    \n",
    "    return prime_list"
   ]
  },
  {
   "cell_type": "markdown",
   "id": "01cf64e7",
   "metadata": {},
   "source": [
    "### Verification\n",
    "\n",
    "Test against known prime sequence ([OEIS A000040](https://oeis.org/A000040)):"
   ]
  },
  {
   "cell_type": "code",
   "execution_count": 3,
   "id": "b9188f78",
   "metadata": {},
   "outputs": [
    {
     "name": "stdout",
     "output_type": "stream",
     "text": [
      "First 10 primes: [2, 3, 5, 7, 11, 13, 17, 19, 23, 29]\n",
      "✓ Verification passed\n"
     ]
    }
   ],
   "source": [
    "# Test with first 10 primes.\n",
    "first_10_primes = primes(10)\n",
    "print(\"First 10 primes:\", first_10_primes)\n",
    "\n",
    "# Verify against OEIS A000040.\n",
    "expected = [2, 3, 5, 7, 11, 13, 17, 19, 23, 29]\n",
    "assert first_10_primes == expected, \"Prime generator verification failed\"\n",
    "print(\"✓ Verification passed\")"
   ]
  },
  {
   "cell_type": "markdown",
   "id": "d70f5240",
   "metadata": {},
   "source": [
    "### Generate Required Primes\n",
    "\n",
    "As specified in FIPS 180-4, generate the first 64 primes:"
   ]
  },
  {
   "cell_type": "code",
   "execution_count": 4,
   "id": "52a42567",
   "metadata": {},
   "outputs": [
    {
     "name": "stdout",
     "output_type": "stream",
     "text": [
      "First 64 primes:\n",
      "======================================================================\n",
      "   2    3    5    7   11   13   17   19\n",
      "  23   29   31   37   41   43   47   53\n",
      "  59   61   67   71   73   79   83   89\n",
      "  97  101  103  107  109  113  127  131\n",
      " 137  139  149  151  157  163  167  173\n",
      " 179  181  191  193  197  199  211  223\n",
      " 227  229  233  239  241  251  257  263\n",
      " 269  271  277  281  283  293  307  311\n",
      "======================================================================\n",
      "The 64th prime: 311\n"
     ]
    }
   ],
   "source": [
    "# Generate first 64 primes.\n",
    "first_64_primes = primes(64)\n",
    "\n",
    "print(\"First 64 primes:\")\n",
    "print(\"=\"*70)\n",
    "\n",
    "# Display in 8-column format.\n",
    "for i in range(0, 64, 8):\n",
    "    row = first_64_primes[i:i+8]\n",
    "    print(\" \".join(f\"{p:4d}\" for p in row))\n",
    "\n",
    "print(\"=\"*70)\n",
    "print(f\"The 64th prime: {first_64_primes[63]}\")"
   ]
  },
  {
   "cell_type": "markdown",
   "id": "db57390f",
   "metadata": {},
   "source": []
  },
  {
   "cell_type": "code",
   "execution_count": 5,
   "id": "036c7038",
   "metadata": {},
   "outputs": [
    {
     "name": "stdout",
     "output_type": "stream",
     "text": [
      "Cube roots of first 10 primes:\n",
      "======================================================================\n",
      "Prime    Cube Root            Verification (cubed)\n",
      "======================================================================\n",
      "2        1.259921049894873    2.000000000000000\n",
      "3        1.442249570307408    3.000000000000000\n",
      "5        1.709975946676697    4.999999999999998\n",
      "7        1.912931182772389    6.999999999999998\n",
      "11       2.223980090569315    10.999999999999996\n",
      "13       2.351334687720757    12.999999999999996\n",
      "17       2.571281590658235    16.999999999999996\n",
      "19       2.668401648721945    19.000000000000000\n",
      "23       2.843866979851565    23.000000000000000\n",
      "29       3.072316825685847    28.999999999999993\n",
      "======================================================================\n"
     ]
    }
   ],
   "source": [
    "# Calculate cube roots.\n",
    "cube_roots = [p ** (1/3) for p in first_64_primes]\n",
    "\n",
    "# Display first 10 with verification.\n",
    "print(\"Cube roots of first 10 primes:\")\n",
    "print(\"=\"*70)\n",
    "print(f\"{'Prime':<8} {'Cube Root':<20} {'Verification (cubed)'}\")\n",
    "print(\"=\"*70)\n",
    "\n",
    "for i in range(10):\n",
    "    p = first_64_primes[i]\n",
    "    cbrt = cube_roots[i]\n",
    "    # Verify: (p^(1/3))^3 should equal p.\n",
    "    cubed = cbrt ** 3\n",
    "    print(f\"{p:<8} {cbrt:<20.15f} {cubed:.15f}\")\n",
    "\n",
    "print(\"=\"*70)"
   ]
  },
  {
   "cell_type": "markdown",
   "id": "7c4c6c0a",
   "metadata": {
    "vscode": {
     "languageId": "plaintext"
    }
   },
   "source": [
    "## Problem 3: Padding"
   ]
  },
  {
   "cell_type": "markdown",
   "id": "5f2469ac",
   "metadata": {
    "vscode": {
     "languageId": "plaintext"
    }
   },
   "source": [
    "# Problem 4: Hashes"
   ]
  },
  {
   "cell_type": "markdown",
   "id": "1e6b3773",
   "metadata": {
    "vscode": {
     "languageId": "plaintext"
    }
   },
   "source": [
    "# Problem 5: Passwords"
   ]
  },
  {
   "cell_type": "markdown",
   "id": "715c080f",
   "metadata": {
    "vscode": {
     "languageId": "plaintext"
    }
   },
   "source": [
    "# End"
   ]
  }
 ],
 "metadata": {
  "kernelspec": {
   "display_name": "Python 3",
   "language": "python",
   "name": "python3"
  },
  "language_info": {
   "codemirror_mode": {
    "name": "ipython",
    "version": 3
   },
   "file_extension": ".py",
   "mimetype": "text/x-python",
   "name": "python",
   "nbconvert_exporter": "python",
   "pygments_lexer": "ipython3",
   "version": "3.12.1"
  }
 },
 "nbformat": 4,
 "nbformat_minor": 5
}
