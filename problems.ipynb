{
 "cells": [
  {
   "cell_type": "markdown",
   "id": "8a086f93",
   "metadata": {
    "vscode": {
     "languageId": "plaintext"
    }
   },
   "source": [
    "# Computational Theory Assessment\n",
    "\n",
    "**Student:** Tiffany Yong Ngik Chee  (G00425067)    \n",
    "**Module:** Computation Theory  \n",
    "**Lecturer:** Ian McLoughlin\n",
    "\n",
    "This notebook contains solutions to five problems related to the [SHA-256 Secure Hash Standard (FIPS 180-4)](https://nvlpubs.nist.gov/nistpubs/FIPS/NIST.FIPS.180-4.pdf).\n",
    "\n",
    "---"
   ]
  },
  {
   "cell_type": "markdown",
   "id": "c974155c",
   "metadata": {
    "vscode": {
     "languageId": "plaintext"
    }
   },
   "source": [
    "## Problem 1: Binary Words and Operations\n",
    "\n",
    "### Introduction\n",
    "\n",
    "In this problem, I implement seven fundamental functions used in the SHA-256 cryptographic hash algorithm. These functions operate on 32-bit binary words and form the building blocks of the hash computation process.\n",
    "\n",
    "All seven functions are defined in **Section 4.1.2** (pages 10-11) of the [Secure Hash Standard (FIPS 180-4)](https://nvlpubs.nist.gov/nistpubs/FIPS/NIST.FIPS.180-4.pdf). They perform bitwise logical operations and rotations that help ensure the security and unpredictability of the SHA-256 hash function.\n",
    "\n",
    "### Why 32-bit Operations?\n",
    "\n",
    "SHA-256 processes data in 32-bit chunks (called \"words\"). Using numpy's `uint32` type ensures that all operations treat numbers as **unsigned 32-bit integers**, preventing overflow issues and ensuring compatibility with the standard's specifications."
   ]
  },
  {
   "cell_type": "code",
   "execution_count": 7,
   "id": "6d5aa36d",
   "metadata": {},
   "outputs": [],
   "source": [
    "# Import numpy for 32-bit unsigned integer operations.\n",
    "# NumPy documentation: https://numpy.org/doc/stable/\n",
    "import numpy as np"
   ]
  },
  {
   "cell_type": "markdown",
   "id": "1d178554",
   "metadata": {},
   "source": [
    "---\n",
    "\n",
    "### Function 1: Parity(x, y, z)\n",
    "\n",
    "#### What is the Parity Function?\n",
    "\n",
    "The `Parity` function is defined in **Section 4.1.2, equation (4.3)** on page 10 of the standard. It is defined as:\n",
    "\n",
    "$$\\text{Parity}(x, y, z) = x \\oplus y \\oplus z$$\n",
    "\n",
    "where $\\oplus$ represents the bitwise XOR (exclusive OR) operation.\n",
    "\n",
    "#### Why is it Used?\n",
    "\n",
    "The Parity function is used in certain rounds of the SHA-256 compression function (specifically in the SHA-1 algorithm, which shares some operations with SHA-256). It provides [diffusion](https://en.wikipedia.org/wiki/Confusion_and_diffusion), meaning that changing a single bit in any of the inputs will affect the output, making the hash function more secure.\n",
    "\n",
    "#### How Does XOR Work?\n",
    "\n",
    "The XOR operation compares corresponding bits of two binary numbers:\n",
    "- If the bits are **different**, the result is `1`\n",
    "- If the bits are the **same**, the result is `0`\n",
    "\n",
    "For three inputs, we XOR them sequentially: first `x ⊕ y`, then XOR that result with `z`."
   ]
  },
  {
   "cell_type": "code",
   "execution_count": 8,
   "id": "54a0fa68",
   "metadata": {},
   "outputs": [],
   "source": [
    "def Parity(x, y, z):\n",
    "    \"\"\"\n",
    "    Calculate the Parity function for SHA-256.\n",
    "    \n",
    "    As defined in Section 4.1.2 (equation 4.3) of FIPS 180-4,\n",
    "    this function returns the bitwise XOR of three 32-bit words.\n",
    "    \n",
    "    The formula is: Parity(x, y, z) = x ⊕ y ⊕ z\n",
    "    \n",
    "    Parameters\n",
    "    ----------\n",
    "    x : int or numpy.uint32\n",
    "        First 32-bit word\n",
    "    y : int or numpy.uint32\n",
    "        Second 32-bit word\n",
    "    z : int or numpy.uint32\n",
    "        Third 32-bit word\n",
    "        \n",
    "    Returns\n",
    "    -------\n",
    "    numpy.uint32\n",
    "        The bitwise XOR of x, y, and z\n",
    "        \n",
    "    References\n",
    "    ----------\n",
    "    FIPS 180-4, Section 4.1.2, page 10\n",
    "    https://nvlpubs.nist.gov/nistpubs/FIPS/NIST.FIPS.180-4.pdf\n",
    "    \"\"\"\n",
    "    # Ensure all inputs are treated as 32-bit unsigned integers.\n",
    "    # This prevents overflow and ensures compatibility with the standard.\n",
    "    # See: https://numpy.org/doc/stable/reference/arrays.scalars.html#numpy.uint32\n",
    "    x = np.uint32(x)\n",
    "    y = np.uint32(y)\n",
    "    z = np.uint32(z)\n",
    "    \n",
    "    # Perform bitwise XOR operation.\n",
    "    # The ^ operator in Python performs bitwise XOR.\n",
    "    # See: https://docs.python.org/3/reference/expressions.html#binary-bitwise-operations\n",
    "    return x ^ y ^ z"
   ]
  },
  {
   "cell_type": "markdown",
   "id": "0db4db26",
   "metadata": {},
   "source": [
    "#### Understanding the XOR Operation\n",
    "\n",
    "Here is the demonstrate how XOR works with a simple example using smaller numbers for clarity:"
   ]
  },
  {
   "cell_type": "code",
   "execution_count": 9,
   "id": "3ea0c564",
   "metadata": {},
   "outputs": [
    {
     "name": "stdout",
     "output_type": "stream",
     "text": [
      "Example XOR operation:\n",
      "x = 1100 (12)\n",
      "y = 1010 (10)\n",
      "z = 1111 (15)\n",
      "x ⊕ y = 0110 (6)\n",
      "(x ⊕ y) ⊕ z = 1001 (9)\n"
     ]
    }
   ],
   "source": [
    "# Example with small numbers to show how XOR works.\n",
    "x_example = 0b1100  # Binary: 1100 (decimal: 12)\n",
    "y_example = 0b1010  # Binary: 1010 (decimal: 10)\n",
    "z_example = 0b1111  # Binary: 1111 (decimal: 15)\n",
    "\n",
    "print(\"Example XOR operation:\")\n",
    "print(f\"x = {x_example:04b} ({x_example})\")\n",
    "print(f\"y = {y_example:04b} ({y_example})\")\n",
    "print(f\"z = {z_example:04b} ({z_example})\")\n",
    "print(f\"x ⊕ y = {x_example ^ y_example:04b} ({x_example ^ y_example})\")\n",
    "print(f\"(x ⊕ y) ⊕ z = {x_example ^ y_example ^ z_example:04b} ({x_example ^ y_example ^ z_example})\")"
   ]
  },
  {
   "cell_type": "markdown",
   "id": "54705f00",
   "metadata": {},
   "source": [
    "#### Testing the Parity Function\n",
    "\n",
    "Now let's test the `Parity` function with actual 32-bit values as used in SHA-256:"
   ]
  },
  {
   "cell_type": "code",
   "execution_count": 10,
   "id": "f64de1d3",
   "metadata": {},
   "outputs": [
    {
     "name": "stdout",
     "output_type": "stream",
     "text": [
      "Testing Parity Function:\n",
      "x = 0x12345678\n",
      "y = 0xabcdef00\n",
      "z = 0xffffffff\n",
      "Parity(x, y, z) = 0x46064687\n",
      "Result type: <class 'numpy.uint32'>\n"
     ]
    }
   ],
   "source": [
    "# Test the Parity function with 32-bit hexadecimal values.\n",
    "# Using hexadecimal notation (0x) as it's standard in cryptography.\n",
    "x_test = 0x12345678\n",
    "y_test = 0xABCDEF00\n",
    "z_test = 0xFFFFFFFF\n",
    "\n",
    "result = Parity(x_test, y_test, z_test)\n",
    "\n",
    "print(\"Testing Parity Function:\")\n",
    "print(f\"x = 0x{x_test:08x}\")\n",
    "print(f\"y = 0x{y_test:08x}\")\n",
    "print(f\"z = 0x{z_test:08x}\")\n",
    "print(f\"Parity(x, y, z) = 0x{result:08x}\")\n",
    "print(f\"Result type: {type(result)}\")"
   ]
  },
  {
   "cell_type": "markdown",
   "id": "0997bfc4",
   "metadata": {},
   "source": [
    "#### My Understanding: Why Parity Works\n",
    "\n",
    "After studying the Parity function, I understand that:\n",
    "\n",
    "1. **XOR is associative**: `(a ⊕ b) ⊕ c = a ⊕ (b ⊕ c)`, so the order doesn't matter\n",
    "2. **XOR is self-inverse**: `a ⊕ a = 0`, which makes it useful for cryptography\n",
    "3. **Bit independence**: Each bit position is processed independently\n",
    "\n",
    "Let me verify this with my own test case:"
   ]
  },
  {
   "cell_type": "code",
   "execution_count": 11,
   "id": "f91094f0",
   "metadata": {},
   "outputs": [
    {
     "name": "stdout",
     "output_type": "stream",
     "text": [
      "Test 1 - Self-inverse property:\n",
      "12345678 ⊕ 12345678 = 00000000 (should be 0)\n",
      "\n",
      "Test 2 - Identity property:\n",
      "12345678 ⊕ 00000000 = 12345678 (should be 12345678)\n",
      "\n",
      "Test 3 - Associativity:\n",
      "Parity(x,y,z) = 0f0f0f0f\n",
      "(x ⊕ y) ⊕ z   = 0f0f0f0f\n",
      "x ⊕ (y ⊕ z)   = 0f0f0f0f\n",
      "All equal: True\n"
     ]
    }
   ],
   "source": [
    "# My own test: Verify XOR properties\n",
    "# Test 1: XOR with itself should give 0\n",
    "a = np.uint32(0x12345678)\n",
    "print(f\"Test 1 - Self-inverse property:\")\n",
    "print(f\"{a:08x} ⊕ {a:08x} = {a ^ a:08x} (should be 0)\")\n",
    "print()\n",
    "\n",
    "# Test 2: XOR with 0 should give the original value\n",
    "print(f\"Test 2 - Identity property:\")\n",
    "print(f\"{a:08x} ⊕ 00000000 = {a ^ np.uint32(0):08x} (should be {a:08x})\")\n",
    "print()\n",
    "\n",
    "# Test 3: Associativity - order doesn't matter\n",
    "x = np.uint32(0xAAAAAAAA)\n",
    "y = np.uint32(0x55555555)\n",
    "z = np.uint32(0xF0F0F0F0)\n",
    "method1 = Parity(x, y, z)\n",
    "method2 = (x ^ y) ^ z\n",
    "method3 = x ^ (y ^ z)\n",
    "print(f\"Test 3 - Associativity:\")\n",
    "print(f\"Parity(x,y,z) = {method1:08x}\")\n",
    "print(f\"(x ⊕ y) ⊕ z   = {method2:08x}\")\n",
    "print(f\"x ⊕ (y ⊕ z)   = {method3:08x}\")\n",
    "print(f\"All equal: {method1 == method2 == method3}\")"
   ]
  },
  {
   "cell_type": "markdown",
   "id": "f21b063c",
   "metadata": {},
   "source": [
    "#### Verification\n",
    "\n",
    "The test confirms that:\n",
    "1. The function returns a `numpy.uint32` type, ensuring 32-bit operations\n",
    "2. The XOR operation works correctly on full 32-bit words\n",
    "3. The result is displayed in hexadecimal format, which is standard in cryptographic contexts\n",
    "\n",
    "---"
   ]
  },
  {
   "cell_type": "markdown",
   "id": "0c41a1c4",
   "metadata": {},
   "source": [
    "\n",
    "### Function 2: Ch(x, y, z)\n",
    "\n",
    "#### What is the Ch Function?\n",
    "\n",
    "The `Ch` function (short for \"Choose\") is defined in **Section 4.1.2, equation (4.2)** on page 10 of the standard:\n",
    "\n",
    "$$\\text{Ch}(x, y, z) = (x \\land y) \\oplus (\\neg x \\land z)$$\n",
    "\n",
    "where:\n",
    "- $\\land$ represents bitwise AND\n",
    "- $\\oplus$ represents bitwise XOR\n",
    "- $\\neg$ represents bitwise NOT (complement)\n",
    "\n",
    "#### Why is it Called \"Choose\"?\n",
    "\n",
    "The Ch function is called \"choose\" because it uses `x` as a **selector**:\n",
    "- When a bit in `x` is **1**, the corresponding bit from `y` is chosen\n",
    "- When a bit in `x` is **0**, the corresponding bit from `z` is chosen\n",
    "\n",
    "This can also be written as: **\"x chooses between y and z\"**\n",
    "\n",
    "#### Logical Explanation\n",
    "\n",
    "The formula works as follows:\n",
    "1. `(x & y)` - Where x has 1's, keep the bits from y\n",
    "2. `(~x & z)` - Where x has 0's (meaning ~x has 1's), keep the bits from z\n",
    "3. XOR these together to get the final result\n",
    "\n",
    "This function provides [confusion](https://en.wikipedia.org/wiki/Confusion_and_diffusion) in the cryptographic sense, making the relationship between the key and ciphertext complex."
   ]
  },
  {
   "cell_type": "markdown",
   "id": "3cc77472",
   "metadata": {},
   "source": []
  },
  {
   "cell_type": "markdown",
   "id": "f116e477",
   "metadata": {
    "vscode": {
     "languageId": "plaintext"
    }
   },
   "source": [
    "# Problem 2: Fractional Parts of Cube Roots"
   ]
  },
  {
   "cell_type": "markdown",
   "id": "7c4c6c0a",
   "metadata": {
    "vscode": {
     "languageId": "plaintext"
    }
   },
   "source": [
    "# Problem 3: Padding"
   ]
  },
  {
   "cell_type": "markdown",
   "id": "5f2469ac",
   "metadata": {
    "vscode": {
     "languageId": "plaintext"
    }
   },
   "source": [
    "# Problem 4: Hashes"
   ]
  },
  {
   "cell_type": "markdown",
   "id": "1e6b3773",
   "metadata": {
    "vscode": {
     "languageId": "plaintext"
    }
   },
   "source": [
    "# Problem 5: Passwords"
   ]
  },
  {
   "cell_type": "markdown",
   "id": "715c080f",
   "metadata": {
    "vscode": {
     "languageId": "plaintext"
    }
   },
   "source": [
    "# End"
   ]
  }
 ],
 "metadata": {
  "kernelspec": {
   "display_name": "Python 3",
   "language": "python",
   "name": "python3"
  },
  "language_info": {
   "codemirror_mode": {
    "name": "ipython",
    "version": 3
   },
   "file_extension": ".py",
   "mimetype": "text/x-python",
   "name": "python",
   "nbconvert_exporter": "python",
   "pygments_lexer": "ipython3",
   "version": "3.12.1"
  }
 },
 "nbformat": 4,
 "nbformat_minor": 5
}
