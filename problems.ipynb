{
 "cells": [
  {
   "cell_type": "markdown",
   "id": "8a086f93",
   "metadata": {
    "vscode": {
     "languageId": "plaintext"
    }
   },
   "source": [
    "# Computational Theory Problems"
   ]
  },
  {
   "cell_type": "markdown",
   "id": "c974155c",
   "metadata": {
    "vscode": {
     "languageId": "plaintext"
    }
   },
   "source": [
    "# Problem 1: Binary Words and Operations"
   ]
  },
  {
   "cell_type": "code",
   "execution_count": null,
   "id": "54a0fa68",
   "metadata": {},
   "outputs": [],
   "source": [
    "def Parity(x, y, z):\n",
    "    \"\"\"\n",
    "    Calculate the Parity function for SHA-256.\n",
    "    \n",
    "    As defined in Section 4.1.2 (equation 4.3) of FIPS 180-4,\n",
    "    this function returns the bitwise XOR of three 32-bit words.\n",
    "    \n",
    "    The formula is: Parity(x, y, z) = x ⊕ y ⊕ z\n",
    "    \n",
    "    Parameters\n",
    "    ----------\n",
    "    x : int or numpy.uint32\n",
    "        First 32-bit word\n",
    "    y : int or numpy.uint32\n",
    "        Second 32-bit word\n",
    "    z : int or numpy.uint32\n",
    "        Third 32-bit word\n",
    "        \n",
    "    Returns\n",
    "    -------\n",
    "    numpy.uint32\n",
    "        The bitwise XOR of x, y, and z\n",
    "        \n",
    "    References\n",
    "    ----------\n",
    "    FIPS 180-4, Section 4.1.2, page 10\n",
    "    https://nvlpubs.nist.gov/nistpubs/FIPS/NIST.FIPS.180-4.pdf\n",
    "    \"\"\"\n",
    "    # Ensure all inputs are treated as 32-bit unsigned integers.\n",
    "    # This prevents overflow and ensures compatibility with the standard.\n",
    "    # See: https://numpy.org/doc/stable/reference/arrays.scalars.html#numpy.uint32\n",
    "    x = np.uint32(x)\n",
    "    y = np.uint32(y)\n",
    "    z = np.uint32(z)\n",
    "    \n",
    "    # Perform bitwise XOR operation.\n",
    "    # The ^ operator in Python performs bitwise XOR.\n",
    "    # See: https://docs.python.org/3/reference/expressions.html#binary-bitwise-operations\n",
    "    return x ^ y ^ z"
   ]
  },
  {
   "cell_type": "markdown",
   "id": "3cc77472",
   "metadata": {},
   "source": []
  },
  {
   "cell_type": "markdown",
   "id": "f116e477",
   "metadata": {
    "vscode": {
     "languageId": "plaintext"
    }
   },
   "source": [
    "# Problem 2: Fractional Parts of Cube Roots"
   ]
  },
  {
   "cell_type": "markdown",
   "id": "7c4c6c0a",
   "metadata": {
    "vscode": {
     "languageId": "plaintext"
    }
   },
   "source": [
    "# Problem 3: Padding"
   ]
  },
  {
   "cell_type": "markdown",
   "id": "5f2469ac",
   "metadata": {
    "vscode": {
     "languageId": "plaintext"
    }
   },
   "source": [
    "# Problem 4: Hashes"
   ]
  },
  {
   "cell_type": "markdown",
   "id": "1e6b3773",
   "metadata": {
    "vscode": {
     "languageId": "plaintext"
    }
   },
   "source": [
    "# Problem 5: Passwords"
   ]
  },
  {
   "cell_type": "markdown",
   "id": "715c080f",
   "metadata": {
    "vscode": {
     "languageId": "plaintext"
    }
   },
   "source": [
    "# End"
   ]
  }
 ],
 "metadata": {
  "kernelspec": {
   "display_name": "Python 3",
   "language": "python",
   "name": "python3"
  },
  "language_info": {
   "codemirror_mode": {
    "name": "ipython",
    "version": 3
   },
   "file_extension": ".py",
   "mimetype": "text/x-python",
   "name": "python",
   "nbconvert_exporter": "python",
   "pygments_lexer": "ipython3",
   "version": "3.12.1"
  }
 },
 "nbformat": 4,
 "nbformat_minor": 5
}
